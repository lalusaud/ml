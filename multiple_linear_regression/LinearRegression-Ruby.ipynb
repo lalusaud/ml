{
 "cells": [
  {
   "cell_type": "code",
   "execution_count": 2,
   "metadata": {},
   "outputs": [
    {
     "data": {
      "text/plain": [
       "false"
      ]
     },
     "execution_count": 2,
     "metadata": {},
     "output_type": "execute_result"
    }
   ],
   "source": [
    "# Import Libraries\n",
    "require 'daru'\n",
    "require 'numo/linalg/autoloader'\n",
    "require 'rumale'\n",
    "require 'numo/gnuplot'"
   ]
  },
  {
   "cell_type": "code",
   "execution_count": 4,
   "metadata": {},
   "outputs": [],
   "source": [
    "# Import Dataset\n",
    "df = Daru::DataFrame.from_csv('50_Startups.csv')\n",
    "\n",
    "# Convert dataset to Numo::NArray dataset\n",
    "x = Numo::NArray.cast df.to_a[0].map { |data| data.values[0..-2] }\n",
    "y = Numo::DFloat.cast df.to_a[0].map { |data| data.values[-1] }\n",
    "\n",
    "# Encoding categorical data\n",
    "encoder = Rumale::Preprocessing::LabelEncoder.new\n",
    "x[true, 3] = encoder.fit_transform(x[true, 3])\n",
    "\n",
    "encoder = Rumale::Preprocessing::OneHotEncoder.new\n",
    "one_hot_vectors = encoder.fit_transform(x[true, 3])\n",
    "\n",
    "# Avoiding the Dummy Variable Trap\n",
    "one_hot_vectors = one_hot_vectors[true, 0..-2]\n",
    "\n",
    "# Append the encoded data\n",
    "x = one_hot_vectors.append(x[true, 0..-2], axis: 1)\n",
    "nil"
   ]
  },
  {
   "cell_type": "code",
   "execution_count": 5,
   "metadata": {},
   "outputs": [],
   "source": [
    "# Split dataset into Training and Test set\n",
    "x_train, x_test, y_train, y_test = Rumale::ModelSelection.train_test_split(\n",
    "  x, y, test_size: 0.2, random_seed: 1\n",
    ")\n",
    "nil"
   ]
  },
  {
   "cell_type": "code",
   "execution_count": 6,
   "metadata": {},
   "outputs": [
    {
     "name": "stdout",
     "output_type": "stream",
     "text": [
      "Numo::DFloat#shape=[10]\n",
      "[88161.5, 64424, 129093, 152995, 135174, 150057, 164179, 116480, 194025, ...]\n",
      "Numo::DFloat#shape=[10]\n",
      "[89949.1, 65200.3, 141586, 152212, 146122, 132603, 156991, 118474, 192262, ...]\n"
     ]
    }
   ],
   "source": [
    "# Fit traning set data and predict test set results\n",
    "model = Rumale::LinearModel::LinearRegression.new(solver: 'svd')\n",
    "model.fit(x_train, y_train)\n",
    "\n",
    "# predict\n",
    "y_pred = model.predict(x_test)\n",
    "p y_pred, y_test\n",
    "nil"
   ]
  },
  {
   "cell_type": "code",
   "execution_count": 7,
   "metadata": {},
   "outputs": [
    {
     "data": {
      "text/plain": [
       "0.9457695783038405"
      ]
     },
     "execution_count": 7,
     "metadata": {},
     "output_type": "execute_result"
    }
   ],
   "source": [
    "model.score(x_test, y_test)"
   ]
  },
  {
   "cell_type": "code",
   "execution_count": null,
   "metadata": {},
   "outputs": [],
   "source": []
  }
 ],
 "metadata": {
  "kernelspec": {
   "display_name": "Ruby 2.7.0",
   "language": "ruby",
   "name": "ruby"
  },
  "language_info": {
   "file_extension": ".rb",
   "mimetype": "application/x-ruby",
   "name": "ruby",
   "version": "2.7.0"
  }
 },
 "nbformat": 4,
 "nbformat_minor": 2
}
