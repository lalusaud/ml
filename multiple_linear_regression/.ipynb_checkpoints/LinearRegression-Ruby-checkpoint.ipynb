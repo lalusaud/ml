{
 "cells": [
  {
   "cell_type": "code",
   "execution_count": 1,
   "metadata": {},
   "outputs": [
    {
     "data": {
      "text/plain": [
       "true"
      ]
     },
     "execution_count": 1,
     "metadata": {},
     "output_type": "execute_result"
    }
   ],
   "source": [
    "# Import Libraries\n",
    "require 'rover-df'\n",
    "require 'rumale'\n",
    "require 'numo/linalg/linalg'\n",
    "Numo::Linalg::Loader.load_openblas '/usr/local/opt/openblas/lib'"
   ]
  },
  {
   "cell_type": "code",
   "execution_count": 2,
   "metadata": {},
   "outputs": [],
   "source": [
    "# Import Dataset\n",
    "df = Rover.read_csv('50_Startups.csv')\n",
    "\n",
    "# Convert dataset to Numo::NArray dataset\n",
    "data = df.to_numo\n",
    "x = data[true, [0, 1, 2, 3]]\n",
    "y = data[true, -1]; nil"
   ]
  },
  {
   "cell_type": "code",
   "execution_count": 3,
   "metadata": {},
   "outputs": [],
   "source": [
    "# Encoding categorical data\n",
    "encoder = Rumale::Preprocessing::LabelEncoder.new\n",
    "x[true, 3] = encoder.fit_transform(x[true, 3])\n",
    "\n",
    "encoder = Rumale::Preprocessing::OneHotEncoder.new\n",
    "one_hot_vectors = encoder.fit_transform(x[true, 3])\n",
    "\n",
    "# Avoiding the Dummy Variable Trap\n",
    "one_hot_vectors = one_hot_vectors[true, 0..-2]\n",
    "\n",
    "# Append the encoded data\n",
    "x = one_hot_vectors.append(x[true, 0..-2], axis: 1)\n",
    "nil"
   ]
  },
  {
   "cell_type": "code",
   "execution_count": 4,
   "metadata": {},
   "outputs": [],
   "source": [
    "# Split dataset into Training and Test set\n",
    "x_train, x_test, y_train, y_test = Rumale::ModelSelection.train_test_split(\n",
    "  x, y, test_size: 0.2, random_seed: 1\n",
    ")\n",
    "nil"
   ]
  },
  {
   "cell_type": "code",
   "execution_count": 5,
   "metadata": {},
   "outputs": [
    {
     "name": "stdout",
     "output_type": "stream",
     "text": [
      "Numo::DFloat#shape=[10]\n",
      "[88161.5, 64424, 129093, 152995, 135174, 150057, 164179, 116480, 194025, ...]\n",
      "Numo::RObject#shape=[10]\n",
      "[89949.14, 65200.33, 141585.52, 152211.77, 146121.95, 132602.65, 156991.12, ...]\n"
     ]
    }
   ],
   "source": [
    "# Fit traning set data and predict test set results\n",
    "model = Rumale::LinearModel::LinearRegression.new(solver: 'svd')\n",
    "model.fit(x_train, y_train)\n",
    "\n",
    "# predict\n",
    "y_pred = model.predict(x_test)\n",
    "p y_pred, y_test; nil"
   ]
  },
  {
   "cell_type": "code",
   "execution_count": 6,
   "metadata": {},
   "outputs": [
    {
     "data": {
      "text/plain": [
       "0.9457695783038405"
      ]
     },
     "execution_count": 6,
     "metadata": {},
     "output_type": "execute_result"
    }
   ],
   "source": [
    "model.score(x_test, y_test)"
   ]
  }
 ],
 "metadata": {
  "kernelspec": {
   "display_name": "Ruby 2.7.2",
   "language": "ruby",
   "name": "ruby"
  },
  "language_info": {
   "file_extension": ".rb",
   "mimetype": "application/x-ruby",
   "name": "ruby",
   "version": "2.7.2"
  }
 },
 "nbformat": 4,
 "nbformat_minor": 2
}
