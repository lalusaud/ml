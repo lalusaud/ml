{
 "cells": [
  {
   "cell_type": "code",
   "execution_count": 1,
   "metadata": {},
   "outputs": [
    {
     "data": {
      "application/javascript": [
       "if(window['d3'] === undefined ||\n",
       "   window['Nyaplot'] === undefined){\n",
       "    var path = {\"d3\":\"https://cdnjs.cloudflare.com/ajax/libs/d3/3.5.5/d3.min\",\"downloadable\":\"http://cdn.rawgit.com/domitry/d3-downloadable/master/d3-downloadable\"};\n",
       "\n",
       "\n",
       "\n",
       "    var shim = {\"d3\":{\"exports\":\"d3\"},\"downloadable\":{\"exports\":\"downloadable\"}};\n",
       "\n",
       "    require.config({paths: path, shim:shim});\n",
       "\n",
       "\n",
       "require(['d3'], function(d3){window['d3']=d3;console.log('finished loading d3');require(['downloadable'], function(downloadable){window['downloadable']=downloadable;console.log('finished loading downloadable');\n",
       "\n",
       "\tvar script = d3.select(\"head\")\n",
       "\t    .append(\"script\")\n",
       "\t    .attr(\"src\", \"http://cdn.rawgit.com/domitry/Nyaplotjs/master/release/nyaplot.js\")\n",
       "\t    .attr(\"async\", true);\n",
       "\n",
       "\tscript[0][0].onload = script[0][0].onreadystatechange = function(){\n",
       "\n",
       "\n",
       "\t    var event = document.createEvent(\"HTMLEvents\");\n",
       "\t    event.initEvent(\"load_nyaplot\",false,false);\n",
       "\t    window.dispatchEvent(event);\n",
       "\t    console.log('Finished loading Nyaplotjs');\n",
       "\n",
       "\t};\n",
       "\n",
       "\n",
       "});});\n",
       "}\n"
      ],
      "text/plain": [
       "\"if(window['d3'] === undefined ||\\n   window['Nyaplot'] === undefined){\\n    var path = {\\\"d3\\\":\\\"https://cdnjs.cloudflare.com/ajax/libs/d3/3.5.5/d3.min\\\",\\\"downloadable\\\":\\\"http://cdn.rawgit.com/domitry/d3-downloadable/master/d3-downloadable\\\"};\\n\\n\\n\\n    var shim = {\\\"d3\\\":{\\\"exports\\\":\\\"d3\\\"},\\\"downloadable\\\":{\\\"exports\\\":\\\"downloadable\\\"}};\\n\\n    require.config({paths: path, shim:shim});\\n\\n\\nrequire(['d3'], function(d3){window['d3']=d3;console.log('finished loading d3');require(['downloadable'], function(downloadable){window['downloadable']=downloadable;console.log('finished loading downloadable');\\n\\n\\tvar script = d3.select(\\\"head\\\")\\n\\t    .append(\\\"script\\\")\\n\\t    .attr(\\\"src\\\", \\\"http://cdn.rawgit.com/domitry/Nyaplotjs/master/release/nyaplot.js\\\")\\n\\t    .attr(\\\"async\\\", true);\\n\\n\\tscript[0][0].onload = script[0][0].onreadystatechange = function(){\\n\\n\\n\\t    var event = document.createEvent(\\\"HTMLEvents\\\");\\n\\t    event.initEvent(\\\"load_nyaplot\\\",false,false);\\n\\t    window.dispatchEvent(event);\\n\\t    console.log('Finished loading Nyaplotjs');\\n\\n\\t};\\n\\n\\n});});\\n}\\n\""
      ]
     },
     "metadata": {},
     "output_type": "display_data"
    },
    {
     "data": {
      "text/plain": [
       "false"
      ]
     },
     "execution_count": 1,
     "metadata": {},
     "output_type": "execute_result"
    }
   ],
   "source": [
    "# Import Libraries\n",
    "require 'daru'\n",
    "require 'numo/linalg/autoloader'\n",
    "require 'rumale'\n",
    "require 'nyaplot'"
   ]
  },
  {
   "cell_type": "code",
   "execution_count": 3,
   "metadata": {},
   "outputs": [
    {
     "data": {
      "text/latex": [
       "$$\\left(\\begin{array}{cc}\n",
       "  1.1&39343.0\\\\\n",
       "  1.3&46205.0\\\\\n",
       "  1.5&37731.0\\\\\n",
       "  2.0&43525.0\\\\\n",
       "  2.2&39891.0\\\\\n",
       "  2.9&56642.0\\\\\n",
       "  3.0&60150.0\\\\\n",
       "  3.2&54445.0\\\\\n",
       "  3.2&64445.0\\\\\n",
       "  3.7&57189.0\\\\\n",
       "  3.9&63218.0\\\\\n",
       "  4.0&55794.0\\\\\n",
       "  4.0&56957.0\\\\\n",
       "  4.1&57081.0\\\\\n",
       "  4.5&61111.0\\\\\n",
       "  4.9&67938.0\\\\\n",
       "  5.1&66029.0\\\\\n",
       "  5.3&83088.0\\\\\n",
       "  5.9&81363.0\\\\\n",
       "  6.0&93940.0\\\\\n",
       "  6.8&91738.0\\\\\n",
       "  7.1&98273.0\\\\\n",
       "  7.9&101302.0\\\\\n",
       "  8.2&113812.0\\\\\n",
       "  8.7&109431.0\\\\\n",
       "  9.0&105582.0\\\\\n",
       "  9.5&116969.0\\\\\n",
       "  9.6&112635.0\\\\\n",
       "  10.3&122391.0\\\\\n",
       "  10.5&121872.0\\\\\n",
       "\\end{array}\\right)$$"
      ],
      "text/plain": [
       "Numo::DFloat#shape=[30,2]\n",
       "[[1.1, 39343], \n",
       " [1.3, 46205], \n",
       " [1.5, 37731], \n",
       " [2, 43525], \n",
       " [2.2, 39891], \n",
       " [2.9, 56642], \n",
       " [3, 60150], \n",
       " [3.2, 54445], \n",
       " [3.2, 64445], \n",
       " [3.7, 57189], \n",
       " [3.9, 63218], \n",
       " [4, 55794], \n",
       " [4, 56957], \n",
       " [4.1, 57081], \n",
       " [4.5, 61111], \n",
       " [4.9, 67938], \n",
       " [5.1, 66029], \n",
       " [5.3, 83088], \n",
       " [5.9, 81363], \n",
       " [6, 93940], \n",
       " ..."
      ]
     },
     "execution_count": 3,
     "metadata": {},
     "output_type": "execute_result"
    }
   ],
   "source": [
    "# Import Dataset\n",
    "df = Daru::DataFrame.from_csv('salary_data.csv')\n",
    "\n",
    "# Convert dataset to Numo::NArray dataset\n",
    "data = Numo::DFloat.cast df['YearsExperience', 'Salary'].to_a[0].map { |data| data.values }"
   ]
  },
  {
   "cell_type": "code",
   "execution_count": 4,
   "metadata": {},
   "outputs": [
    {
     "data": {
      "text/plain": [
       "[[[1, 2, 3, 4, 7, 8, 10, 13, 15, 17, 18, 19, 20, 21, 23, 24, 25, 26, 27, 28, 29], [5, 12, 14, 9, 11, 16, 6, 22, 0]]]"
      ]
     },
     "execution_count": 4,
     "metadata": {},
     "output_type": "execute_result"
    }
   ],
   "source": [
    "# Split dataset into Training and Test set\n",
    "x_train, y_train, x_test, y_test = nil\n",
    "Rumale::ModelSelection::ShuffleSplit.new(test_size: 0.3, n_splits: 1, random_seed: 1).split(data).each do |train, test|\n",
    "  x_train, y_train = data[train, true][true, 0..-2], data[train, true][true, 1..-1]\n",
    "  x_test, y_test = data[test, true][true, 0..-2], data[test, true][true, 1..-1]\n",
    "end"
   ]
  },
  {
   "cell_type": "code",
   "execution_count": 5,
   "metadata": {},
   "outputs": [
    {
     "data": {
      "text/latex": [
       "$$\\left(\\begin{array}{c}\n",
       "  54293.83147579183\\\\\n",
       "  64629.99187561862\\\\\n",
       "  69328.24660281262\\\\\n",
       "  61811.039039302224\\\\\n",
       "  64629.99187561862\\\\\n",
       "  74966.15227544542\\\\\n",
       "  55233.48242123063\\\\\n",
       "  101276.37874773181\\\\\n",
       "  37380.11445789344\\\\\n",
       "\\end{array}\\right)$$"
      ],
      "text/plain": [
       "Numo::DFloat#shape=[9,1]\n",
       "[[54293.8], \n",
       " [64630], \n",
       " [69328.2], \n",
       " [61811], \n",
       " [64630], \n",
       " [74966.2], \n",
       " [55233.5], \n",
       " [101276], \n",
       " [37380.1]]"
      ]
     },
     "execution_count": 5,
     "metadata": {},
     "output_type": "execute_result"
    }
   ],
   "source": [
    "# Fit traning set data and predict test set results\n",
    "model = Rumale::LinearModel::LinearRegression.new(solver: 'svd')\n",
    "model.fit(x_train, y_train)\n",
    "\n",
    "# predict\n",
    "y_pred = model.predict(x_test)"
   ]
  },
  {
   "cell_type": "code",
   "execution_count": 6,
   "metadata": {},
   "outputs": [
    {
     "data": {
      "text/html": [
       "<div id='vis-b2353670-0267-4b8d-897e-f8f5a0d7f2c7'></div>\n",
       "<script>\n",
       "(function(){\n",
       "    var render = function(){\n",
       "        var model = {\"panes\":[{\"diagrams\":[{\"type\":\"scatter\",\"options\":{\"x\":\"data0\",\"y\":\"data1\",\"color\":\"red\"},\"data\":\"5310abc4-6c95-4570-9691-2613182474ae\"},{\"type\":\"line\",\"options\":{\"x\":\"data0\",\"y\":\"data1\",\"color\":\"blue\"},\"data\":\"481dc893-fb92-45fb-97b6-142d19c89bed\"}],\"options\":{\"x_label\":\"Age\",\"y_label\":\"Salary\",\"zoom\":true,\"width\":700,\"xrange\":[[1.3],[10.5]],\"yrange\":[[37731.0],[125707.3033291406]]}}],\"data\":{\"5310abc4-6c95-4570-9691-2613182474ae\":[{\"data0\":[1.3],\"data1\":[46205.0]},{\"data0\":[1.5],\"data1\":[37731.0]},{\"data0\":[2.0],\"data1\":[43525.0]},{\"data0\":[2.2],\"data1\":[39891.0]},{\"data0\":[3.2],\"data1\":[54445.0]},{\"data0\":[3.2],\"data1\":[64445.0]},{\"data0\":[3.9],\"data1\":[63218.0]},{\"data0\":[4.1],\"data1\":[57081.0]},{\"data0\":[4.9],\"data1\":[67938.0]},{\"data0\":[5.3],\"data1\":[83088.0]},{\"data0\":[5.9],\"data1\":[81363.0]},{\"data0\":[6.0],\"data1\":[93940.0]},{\"data0\":[6.8],\"data1\":[91738.0]},{\"data0\":[7.1],\"data1\":[98273.0]},{\"data0\":[8.2],\"data1\":[113812.0]},{\"data0\":[8.7],\"data1\":[109431.0]},{\"data0\":[9.0],\"data1\":[105582.0]},{\"data0\":[9.5],\"data1\":[116969.0]},{\"data0\":[9.6],\"data1\":[112635.0]},{\"data0\":[10.3],\"data1\":[122391.0]},{\"data0\":[10.5],\"data1\":[121872.0]}],\"481dc893-fb92-45fb-97b6-142d19c89bed\":[{\"data0\":[1.3],\"data1\":[39259.41634877104]},{\"data0\":[1.5],\"data1\":[41138.71823964864]},{\"data0\":[2.0],\"data1\":[45836.97296684264]},{\"data0\":[2.2],\"data1\":[47716.27485772024]},{\"data0\":[3.2],\"data1\":[57112.78431210823]},{\"data0\":[3.2],\"data1\":[57112.78431210823]},{\"data0\":[3.9],\"data1\":[63690.340930179824]},{\"data0\":[4.1],\"data1\":[65569.64282105742]},{\"data0\":[4.9],\"data1\":[73086.85038456782]},{\"data0\":[5.3],\"data1\":[76845.45416632302]},{\"data0\":[5.9],\"data1\":[82483.35983895582]},{\"data0\":[6.0],\"data1\":[83423.01078439462]},{\"data0\":[6.8],\"data1\":[90940.21834790501]},{\"data0\":[7.1],\"data1\":[93759.17118422141]},{\"data0\":[8.2],\"data1\":[104095.33158404821]},{\"data0\":[8.7],\"data1\":[108793.5863112422]},{\"data0\":[9.0],\"data1\":[111612.53914755861]},{\"data0\":[9.5],\"data1\":[116310.7938747526]},{\"data0\":[9.6],\"data1\":[117250.4448201914]},{\"data0\":[10.3],\"data1\":[123828.001438263]},{\"data0\":[10.5],\"data1\":[125707.3033291406]}]},\"extension\":[]}\n",
       "        var id_name = '#vis-b2353670-0267-4b8d-897e-f8f5a0d7f2c7';\n",
       "        Nyaplot.core.parse(model, id_name);\n",
       "\n",
       "        require(['downloadable'], function(downloadable){\n",
       "          var svg = d3.select(id_name).select(\"svg\");\n",
       "\t  if(!svg.empty())\n",
       "\t    svg.call(downloadable().filename('fig'));\n",
       "\t});\n",
       "    };\n",
       "    if(window['Nyaplot']==undefined){\n",
       "        window.addEventListener('load_nyaplot', render, false);\n",
       "\treturn;\n",
       "    } else {\n",
       "       render();\n",
       "    }\n",
       "})();\n",
       "</script>\n"
      ],
      "text/plain": [
       "#<Nyaplot::Frame:0x00007feb4e9a7950 @properties={:panes=>[#<Nyaplot::Plot:0x00007feb4a9da430 @properties={:diagrams=>[#<Nyaplot::Diagram:0x00007feb4a9d2f78 @properties={:type=>:scatter, :options=>{:x=>\"data0\", :y=>\"data1\", :color=>\"red\"}, :data=>\"5310abc4-6c95-4570-9691-2613182474ae\"}, @xrange=[[1.3], [10.5]], @yrange=[[37731.0], [122391.0]]>, #<Nyaplot::Diagram:0x00007feb4e9a7f18 @properties={:type=>:line, :options=>{:x=>\"data0\", :y=>\"data1\", :color=>\"blue\"}, :data=>\"481dc893-fb92-45fb-97b6-142d19c89bed\"}, @xrange=[[1.3], [10.5]], @yrange=[[39259.41634877104], [125707.3033291406]]>], :options=>{:x_label=>\"Age\", :y_label=>\"Salary\", :zoom=>true, :width=>700, :xrange=>[[1.3], [10.5]], :yrange=>[[37731.0], [125707.3033291406]]}}>], :data=>{\"5310abc4-6c95-4570-9691-2613182474ae\"=>#<Nyaplot::DataFrame:0x00007feb4a9d8d38 @name=\"5310abc4-6c95-4570-9691-2613182474ae\", @rows=[{:data0=>[1.3], :data1=>[46205.0]}, {:data0=>[1.5], :data1=>[37731.0]}, {:data0=>[2.0], :data1=>[43525.0]}, {:data0=>[2.2], :data1=>[39891.0]}, {:data0=>[3.2], :data1=>[54445.0]}, {:data0=>[3.2], :data1=>[64445.0]}, {:data0=>[3.9], :data1=>[63218.0]}, {:data0=>[4.1], :data1=>[57081.0]}, {:data0=>[4.9], :data1=>[67938.0]}, {:data0=>[5.3], :data1=>[83088.0]}, {:data0=>[5.9], :data1=>[81363.0]}, {:data0=>[6.0], :data1=>[93940.0]}, {:data0=>[6.8], :data1=>[91738.0]}, {:data0=>[7.1], :data1=>[98273.0]}, {:data0=>[8.2], :data1=>[113812.0]}, {:data0=>[8.7], :data1=>[109431.0]}, {:data0=>[9.0], :data1=>[105582.0]}, {:data0=>[9.5], :data1=>[116969.0]}, {:data0=>[9.6], :data1=>[112635.0]}, {:data0=>[10.3], :data1=>[122391.0]}, {:data0=>[10.5], :data1=>[121872.0]}]>, \"481dc893-fb92-45fb-97b6-142d19c89bed\"=>#<Nyaplot::DataFrame:0x00007feb4a9d16a0 @name=\"481dc893-fb92-45fb-97b6-142d19c89bed\", @rows=[{:data0=>[1.3], :data1=>[39259.41634877104]}, {:data0=>[1.5], :data1=>[41138.71823964864]}, {:data0=>[2.0], :data1=>[45836.97296684264]}, {:data0=>[2.2], :data1=>[47716.27485772024]}, {:data0=>[3.2], :data1=>[57112.78431210823]}, {:data0=>[3.2], :data1=>[57112.78431210823]}, {:data0=>[3.9], :data1=>[63690.340930179824]}, {:data0=>[4.1], :data1=>[65569.64282105742]}, {:data0=>[4.9], :data1=>[73086.85038456782]}, {:data0=>[5.3], :data1=>[76845.45416632302]}, {:data0=>[5.9], :data1=>[82483.35983895582]}, {:data0=>[6.0], :data1=>[83423.01078439462]}, {:data0=>[6.8], :data1=>[90940.21834790501]}, {:data0=>[7.1], :data1=>[93759.17118422141]}, {:data0=>[8.2], :data1=>[104095.33158404821]}, {:data0=>[8.7], :data1=>[108793.5863112422]}, {:data0=>[9.0], :data1=>[111612.53914755861]}, {:data0=>[9.5], :data1=>[116310.7938747526]}, {:data0=>[9.6], :data1=>[117250.4448201914]}, {:data0=>[10.3], :data1=>[123828.001438263]}, {:data0=>[10.5], :data1=>[125707.3033291406]}]>}, :extension=>[]}>"
      ]
     },
     "metadata": {},
     "output_type": "display_data"
    },
    {
     "data": {
      "text/plain": [
       "[\"display_data\", \"<IDS|MSG>\", \"0d51adc5c4d3506b8a5753524958c0bfa800b089f0a20a1035daf08b975c17ad\", \"{\\\"msg_type\\\":\\\"display_data\\\",\\\"msg_id\\\":\\\"615916e6-de94-4088-b219-b96c1ed9ef44\\\",\\\"username\\\":\\\"kernel\\\",\\\"session\\\":\\\"9a74b59f-fba4-4bb1-9527-154ee36cb9a1\\\",\\\"version\\\":\\\"5.0\\\"}\", \"{\\\"msg_id\\\":\\\"a3d9b2882f3a43c89785aa4558774e41\\\",\\\"username\\\":\\\"username\\\",\\\"session\\\":\\\"5d15d7670e1d40388c512fd5f1d198c6\\\",\\\"msg_type\\\":\\\"execute_request\\\",\\\"version\\\":\\\"5.2\\\",\\\"date\\\":\\\"2020-02-20T06:31:33.198504Z\\\"}\", \"{}\", \"{\\\"data\\\":{\\\"text/html\\\":\\\"<div id='vis-b2353670-0267-4b8d-897e-f8f5a0d7f2c7'></div>\\\\n<script>\\\\n(function(){\\\\n    var render = function(){\\\\n        var model = {\\\\\\\"panes\\\\\\\":[{\\\\\\\"diagrams\\\\\\\":[{\\\\\\\"type\\\\\\\":\\\\\\\"scatter\\\\\\\",\\\\\\\"options\\\\\\\":{\\\\\\\"x\\\\\\\":\\\\\\\"data0\\\\\\\",\\\\\\\"y\\\\\\\":\\\\\\\"data1\\\\\\\",\\\\\\\"color\\\\\\\":\\\\\\\"red\\\\\\\"},\\\\\\\"data\\\\\\\":\\\\\\\"5310abc4-6c95-4570-9691-2613182474ae\\\\\\\"},{\\\\\\\"type\\\\\\\":\\\\\\\"line\\\\\\\",\\\\\\\"options\\\\\\\":{\\\\\\\"x\\\\\\\":\\\\\\\"data0\\\\\\\",\\\\\\\"y\\\\\\\":\\\\\\\"data1\\\\\\\",\\\\\\\"color\\\\\\\":\\\\\\\"blue\\\\\\\"},\\\\\\\"data\\\\\\\":\\\\\\\"481dc893-fb92-45fb-97b6-142d19c89bed\\\\\\\"}],\\\\\\\"options\\\\\\\":{\\\\\\\"x_label\\\\\\\":\\\\\\\"Age\\\\\\\",\\\\\\\"y_label\\\\\\\":\\\\\\\"Salary\\\\\\\",\\\\\\\"zoom\\\\\\\":true,\\\\\\\"width\\\\\\\":700,\\\\\\\"xrange\\\\\\\":[[1.3],[10.5]],\\\\\\\"yrange\\\\\\\":[[37731.0],[125707.3033291406]]}}],\\\\\\\"data\\\\\\\":{\\\\\\\"5310abc4-6c95-4570-9691-2613182474ae\\\\\\\":[{\\\\\\\"data0\\\\\\\":[1.3],\\\\\\\"data1\\\\\\\":[46205.0]},{\\\\\\\"data0\\\\\\\":[1.5],\\\\\\\"data1\\\\\\\":[37731.0]},{\\\\\\\"data0\\\\\\\":[2.0],\\\\\\\"data1\\\\\\\":[43525.0]},{\\\\\\\"data0\\\\\\\":[2.2],\\\\\\\"data1\\\\\\\":[39891.0]},{\\\\\\\"data0\\\\\\\":[3.2],\\\\\\\"data1\\\\\\\":[54445.0]},{\\\\\\\"data0\\\\\\\":[3.2],\\\\\\\"data1\\\\\\\":[64445.0]},{\\\\\\\"data0\\\\\\\":[3.9],\\\\\\\"data1\\\\\\\":[63218.0]},{\\\\\\\"data0\\\\\\\":[4.1],\\\\\\\"data1\\\\\\\":[57081.0]},{\\\\\\\"data0\\\\\\\":[4.9],\\\\\\\"data1\\\\\\\":[67938.0]},{\\\\\\\"data0\\\\\\\":[5.3],\\\\\\\"data1\\\\\\\":[83088.0]},{\\\\\\\"data0\\\\\\\":[5.9],\\\\\\\"data1\\\\\\\":[81363.0]},{\\\\\\\"data0\\\\\\\":[6.0],\\\\\\\"data1\\\\\\\":[93940.0]},{\\\\\\\"data0\\\\\\\":[6.8],\\\\\\\"data1\\\\\\\":[91738.0]},{\\\\\\\"data0\\\\\\\":[7.1],\\\\\\\"data1\\\\\\\":[98273.0]},{\\\\\\\"data0\\\\\\\":[8.2],\\\\\\\"data1\\\\\\\":[113812.0]},{\\\\\\\"data0\\\\\\\":[8.7],\\\\\\\"data1\\\\\\\":[109431.0]},{\\\\\\\"data0\\\\\\\":[9.0],\\\\\\\"data1\\\\\\\":[105582.0]},{\\\\\\\"data0\\\\\\\":[9.5],\\\\\\\"data1\\\\\\\":[116969.0]},{\\\\\\\"data0\\\\\\\":[9.6],\\\\\\\"data1\\\\\\\":[112635.0]},{\\\\\\\"data0\\\\\\\":[10.3],\\\\\\\"data1\\\\\\\":[122391.0]},{\\\\\\\"data0\\\\\\\":[10.5],\\\\\\\"data1\\\\\\\":[121872.0]}],\\\\\\\"481dc893-fb92-45fb-97b6-142d19c89bed\\\\\\\":[{\\\\\\\"data0\\\\\\\":[1.3],\\\\\\\"data1\\\\\\\":[39259.41634877104]},{\\\\\\\"data0\\\\\\\":[1.5],\\\\\\\"data1\\\\\\\":[41138.71823964864]},{\\\\\\\"data0\\\\\\\":[2.0],\\\\\\\"data1\\\\\\\":[45836.97296684264]},{\\\\\\\"data0\\\\\\\":[2.2],\\\\\\\"data1\\\\\\\":[47716.27485772024]},{\\\\\\\"data0\\\\\\\":[3.2],\\\\\\\"data1\\\\\\\":[57112.78431210823]},{\\\\\\\"data0\\\\\\\":[3.2],\\\\\\\"data1\\\\\\\":[57112.78431210823]},{\\\\\\\"data0\\\\\\\":[3.9],\\\\\\\"data1\\\\\\\":[63690.340930179824]},{\\\\\\\"data0\\\\\\\":[4.1],\\\\\\\"data1\\\\\\\":[65569.64282105742]},{\\\\\\\"data0\\\\\\\":[4.9],\\\\\\\"data1\\\\\\\":[73086.85038456782]},{\\\\\\\"data0\\\\\\\":[5.3],\\\\\\\"data1\\\\\\\":[76845.45416632302]},{\\\\\\\"data0\\\\\\\":[5.9],\\\\\\\"data1\\\\\\\":[82483.35983895582]},{\\\\\\\"data0\\\\\\\":[6.0],\\\\\\\"data1\\\\\\\":[83423.01078439462]},{\\\\\\\"data0\\\\\\\":[6.8],\\\\\\\"data1\\\\\\\":[90940.21834790501]},{\\\\\\\"data0\\\\\\\":[7.1],\\\\\\\"data1\\\\\\\":[93759.17118422141]},{\\\\\\\"data0\\\\\\\":[8.2],\\\\\\\"data1\\\\\\\":[104095.33158404821]},{\\\\\\\"data0\\\\\\\":[8.7],\\\\\\\"data1\\\\\\\":[108793.5863112422]},{\\\\\\\"data0\\\\\\\":[9.0],\\\\\\\"data1\\\\\\\":[111612.53914755861]},{\\\\\\\"data0\\\\\\\":[9.5],\\\\\\\"data1\\\\\\\":[116310.7938747526]},{\\\\\\\"data0\\\\\\\":[9.6],\\\\\\\"data1\\\\\\\":[117250.4448201914]},{\\\\\\\"data0\\\\\\\":[10.3],\\\\\\\"data1\\\\\\\":[123828.001438263]},{\\\\\\\"data0\\\\\\\":[10.5],\\\\\\\"data1\\\\\\\":[125707.3033291406]}]},\\\\\\\"extension\\\\\\\":[]}\\\\n        var id_name = '#vis-b2353670-0267-4b8d-897e-f8f5a0d7f2c7';\\\\n        Nyaplot.core.parse(model, id_name);\\\\n\\\\n        require(['downloadable'], function(downloadable){\\\\n          var svg = d3.select(id_name).select(\\\\\\\"svg\\\\\\\");\\\\n\\\\t  if(!svg.empty())\\\\n\\\\t    svg.call(downloadable().filename('fig'));\\\\n\\\\t});\\\\n    };\\\\n    if(window['Nyaplot']==undefined){\\\\n        window.addEventListener('load_nyaplot', render, false);\\\\n\\\\treturn;\\\\n    } else {\\\\n       render();\\\\n    }\\\\n})();\\\\n</script>\\\\n\\\",\\\"text/plain\\\":\\\"#<Nyaplot::Frame:0x00007feb4e9a7950 @properties={:panes=>[#<Nyaplot::Plot:0x00007feb4a9da430 @properties={:diagrams=>[#<Nyaplot::Diagram:0x00007feb4a9d2f78 @properties={:type=>:scatter, :options=>{:x=>\\\\\\\"data0\\\\\\\", :y=>\\\\\\\"data1\\\\\\\", :color=>\\\\\\\"red\\\\\\\"}, :data=>\\\\\\\"5310abc4-6c95-4570-9691-2613182474ae\\\\\\\"}, @xrange=[[1.3], [10.5]], @yrange=[[37731.0], [122391.0]]>, #<Nyaplot::Diagram:0x00007feb4e9a7f18 @properties={:type=>:line, :options=>{:x=>\\\\\\\"data0\\\\\\\", :y=>\\\\\\\"data1\\\\\\\", :color=>\\\\\\\"blue\\\\\\\"}, :data=>\\\\\\\"481dc893-fb92-45fb-97b6-142d19c89bed\\\\\\\"}, @xrange=[[1.3], [10.5]], @yrange=[[39259.41634877104], [125707.3033291406]]>], :options=>{:x_label=>\\\\\\\"Age\\\\\\\", :y_label=>\\\\\\\"Salary\\\\\\\", :zoom=>true, :width=>700, :xrange=>[[1.3], [10.5]], :yrange=>[[37731.0], [125707.3033291406]]}}>], :data=>{\\\\\\\"5310abc4-6c95-4570-9691-2613182474ae\\\\\\\"=>#<Nyaplot::DataFrame:0x00007feb4a9d8d38 @name=\\\\\\\"5310abc4-6c95-4570-9691-2613182474ae\\\\\\\", @rows=[{:data0=>[1.3], :data1=>[46205.0]}, {:data0=>[1.5], :data1=>[37731.0]}, {:data0=>[2.0], :data1=>[43525.0]}, {:data0=>[2.2], :data1=>[39891.0]}, {:data0=>[3.2], :data1=>[54445.0]}, {:data0=>[3.2], :data1=>[64445.0]}, {:data0=>[3.9], :data1=>[63218.0]}, {:data0=>[4.1], :data1=>[57081.0]}, {:data0=>[4.9], :data1=>[67938.0]}, {:data0=>[5.3], :data1=>[83088.0]}, {:data0=>[5.9], :data1=>[81363.0]}, {:data0=>[6.0], :data1=>[93940.0]}, {:data0=>[6.8], :data1=>[91738.0]}, {:data0=>[7.1], :data1=>[98273.0]}, {:data0=>[8.2], :data1=>[113812.0]}, {:data0=>[8.7], :data1=>[109431.0]}, {:data0=>[9.0], :data1=>[105582.0]}, {:data0=>[9.5], :data1=>[116969.0]}, {:data0=>[9.6], :data1=>[112635.0]}, {:data0=>[10.3], :data1=>[122391.0]}, {:data0=>[10.5], :data1=>[121872.0]}]>, \\\\\\\"481dc893-fb92-45fb-97b6-142d19c89bed\\\\\\\"=>#<Nyaplot::DataFrame:0x00007feb4a9d16a0 @name=\\\\\\\"481dc893-fb92-45fb-97b6-142d19c89bed\\\\\\\", @rows=[{:data0=>[1.3], :data1=>[39259.41634877104]}, {:data0=>[1.5], :data1=>[41138.71823964864]}, {:data0=>[2.0], :data1=>[45836.97296684264]}, {:data0=>[2.2], :data1=>[47716.27485772024]}, {:data0=>[3.2], :data1=>[57112.78431210823]}, {:data0=>[3.2], :data1=>[57112.78431210823]}, {:data0=>[3.9], :data1=>[63690.340930179824]}, {:data0=>[4.1], :data1=>[65569.64282105742]}, {:data0=>[4.9], :data1=>[73086.85038456782]}, {:data0=>[5.3], :data1=>[76845.45416632302]}, {:data0=>[5.9], :data1=>[82483.35983895582]}, {:data0=>[6.0], :data1=>[83423.01078439462]}, {:data0=>[6.8], :data1=>[90940.21834790501]}, {:data0=>[7.1], :data1=>[93759.17118422141]}, {:data0=>[8.2], :data1=>[104095.33158404821]}, {:data0=>[8.7], :data1=>[108793.5863112422]}, {:data0=>[9.0], :data1=>[111612.53914755861]}, {:data0=>[9.5], :data1=>[116310.7938747526]}, {:data0=>[9.6], :data1=>[117250.4448201914]}, {:data0=>[10.3], :data1=>[123828.001438263]}, {:data0=>[10.5], :data1=>[125707.3033291406]}]>}, :extension=>[]}>\\\"},\\\"metadata\\\":{}}\"]"
      ]
     },
     "execution_count": 6,
     "metadata": {},
     "output_type": "execute_result"
    }
   ],
   "source": [
    "# Visualize training set results\n",
    "plot = Nyaplot::Plot.new\n",
    "plot.x_label(\"Age\")\n",
    "plot.y_label(\"Salary\")\n",
    "plot.add(:scatter, x_train.to_a, y_train.to_a).color('red')\n",
    "plot.add(:line, x_train.to_a, model.predict(x_train).to_a).color('blue')\n",
    "plot.show"
   ]
  },
  {
   "cell_type": "code",
   "execution_count": 7,
   "metadata": {
    "scrolled": false
   },
   "outputs": [
    {
     "data": {
      "text/html": [
       "<div id='vis-822b84c5-3556-44ba-995f-2030c5fd211c'></div>\n",
       "<script>\n",
       "(function(){\n",
       "    var render = function(){\n",
       "        var model = {\"panes\":[{\"diagrams\":[{\"type\":\"scatter\",\"options\":{\"x\":\"data0\",\"y\":\"data1\",\"color\":\"red\"},\"data\":\"a18d0ab1-50b6-440e-9b0e-f63cd8137b58\"},{\"type\":\"line\",\"options\":{\"x\":\"data0\",\"y\":\"data1\",\"color\":\"blue\"},\"data\":\"ad615dff-2874-42b9-b600-b5e46051a5e4\"}],\"options\":{\"x_label\":\"Years of Experience\",\"y_label\":\"Salary\",\"zoom\":true,\"width\":700,\"xrange\":[[1.1],[7.9]],\"yrange\":[[37380.11445789344],[101302.0]]}}],\"data\":{\"a18d0ab1-50b6-440e-9b0e-f63cd8137b58\":[{\"data0\":[2.9],\"data1\":[56642.0]},{\"data0\":[4.0],\"data1\":[56957.0]},{\"data0\":[4.5],\"data1\":[61111.0]},{\"data0\":[3.7],\"data1\":[57189.0]},{\"data0\":[4.0],\"data1\":[55794.0]},{\"data0\":[5.1],\"data1\":[66029.0]},{\"data0\":[3.0],\"data1\":[60150.0]},{\"data0\":[7.9],\"data1\":[101302.0]},{\"data0\":[1.1],\"data1\":[39343.0]}],\"ad615dff-2874-42b9-b600-b5e46051a5e4\":[{\"data0\":[2.9],\"data1\":[54293.83147579183]},{\"data0\":[4.0],\"data1\":[64629.99187561862]},{\"data0\":[4.5],\"data1\":[69328.24660281262]},{\"data0\":[3.7],\"data1\":[61811.039039302224]},{\"data0\":[4.0],\"data1\":[64629.99187561862]},{\"data0\":[5.1],\"data1\":[74966.15227544542]},{\"data0\":[3.0],\"data1\":[55233.48242123063]},{\"data0\":[7.9],\"data1\":[101276.37874773181]},{\"data0\":[1.1],\"data1\":[37380.11445789344]}]},\"extension\":[]}\n",
       "        var id_name = '#vis-822b84c5-3556-44ba-995f-2030c5fd211c';\n",
       "        Nyaplot.core.parse(model, id_name);\n",
       "\n",
       "        require(['downloadable'], function(downloadable){\n",
       "          var svg = d3.select(id_name).select(\"svg\");\n",
       "\t  if(!svg.empty())\n",
       "\t    svg.call(downloadable().filename('fig'));\n",
       "\t});\n",
       "    };\n",
       "    if(window['Nyaplot']==undefined){\n",
       "        window.addEventListener('load_nyaplot', render, false);\n",
       "\treturn;\n",
       "    } else {\n",
       "       render();\n",
       "    }\n",
       "})();\n",
       "</script>\n"
      ],
      "text/plain": [
       "#<Nyaplot::Frame:0x00007feb4a99bcf8 @properties={:panes=>[#<Nyaplot::Plot:0x00007feb4e96f3e8 @properties={:diagrams=>[#<Nyaplot::Diagram:0x00007feb4e96c940 @properties={:type=>:scatter, :options=>{:x=>\"data0\", :y=>\"data1\", :color=>\"red\"}, :data=>\"a18d0ab1-50b6-440e-9b0e-f63cd8137b58\"}, @xrange=[[1.1], [7.9]], @yrange=[[39343.0], [101302.0]]>, #<Nyaplot::Diagram:0x00007feb4a9a1018 @properties={:type=>:line, :options=>{:x=>\"data0\", :y=>\"data1\", :color=>\"blue\"}, :data=>\"ad615dff-2874-42b9-b600-b5e46051a5e4\"}, @xrange=[[1.1], [7.9]], @yrange=[[37380.11445789344], [101276.37874773181]]>], :options=>{:x_label=>\"Years of Experience\", :y_label=>\"Salary\", :zoom=>true, :width=>700, :xrange=>[[1.1], [7.9]], :yrange=>[[37380.11445789344], [101302.0]]}}>], :data=>{\"a18d0ab1-50b6-440e-9b0e-f63cd8137b58\"=>#<Nyaplot::DataFrame:0x00007feb4e96e3d0 @name=\"a18d0ab1-50b6-440e-9b0e-f63cd8137b58\", @rows=[{:data0=>[2.9], :data1=>[56642.0]}, {:data0=>[4.0], :data1=>[56957.0]}, {:data0=>[4.5], :data1=>[61111.0]}, {:data0=>[3.7], :data1=>[57189.0]}, {:data0=>[4.0], :data1=>[55794.0]}, {:data0=>[5.1], :data1=>[66029.0]}, {:data0=>[3.0], :data1=>[60150.0]}, {:data0=>[7.9], :data1=>[101302.0]}, {:data0=>[1.1], :data1=>[39343.0]}]>, \"ad615dff-2874-42b9-b600-b5e46051a5e4\"=>#<Nyaplot::DataFrame:0x00007feb4a9a2d00 @name=\"ad615dff-2874-42b9-b600-b5e46051a5e4\", @rows=[{:data0=>[2.9], :data1=>[54293.83147579183]}, {:data0=>[4.0], :data1=>[64629.99187561862]}, {:data0=>[4.5], :data1=>[69328.24660281262]}, {:data0=>[3.7], :data1=>[61811.039039302224]}, {:data0=>[4.0], :data1=>[64629.99187561862]}, {:data0=>[5.1], :data1=>[74966.15227544542]}, {:data0=>[3.0], :data1=>[55233.48242123063]}, {:data0=>[7.9], :data1=>[101276.37874773181]}, {:data0=>[1.1], :data1=>[37380.11445789344]}]>}, :extension=>[]}>"
      ]
     },
     "metadata": {},
     "output_type": "display_data"
    },
    {
     "data": {
      "text/plain": [
       "[\"display_data\", \"<IDS|MSG>\", \"28b4dc16597b3018fb190b7630e3d1920e0e9ffd08ffbf22a86956dc01a22a67\", \"{\\\"msg_type\\\":\\\"display_data\\\",\\\"msg_id\\\":\\\"f4a3a5fe-c8b6-4781-9fe2-f34cece25d83\\\",\\\"username\\\":\\\"kernel\\\",\\\"session\\\":\\\"9a74b59f-fba4-4bb1-9527-154ee36cb9a1\\\",\\\"version\\\":\\\"5.0\\\"}\", \"{\\\"msg_id\\\":\\\"f49907c89f494a798f8d5cc4578a82ce\\\",\\\"username\\\":\\\"username\\\",\\\"session\\\":\\\"5d15d7670e1d40388c512fd5f1d198c6\\\",\\\"msg_type\\\":\\\"execute_request\\\",\\\"version\\\":\\\"5.2\\\",\\\"date\\\":\\\"2020-02-20T06:31:51.799378Z\\\"}\", \"{}\", \"{\\\"data\\\":{\\\"text/html\\\":\\\"<div id='vis-822b84c5-3556-44ba-995f-2030c5fd211c'></div>\\\\n<script>\\\\n(function(){\\\\n    var render = function(){\\\\n        var model = {\\\\\\\"panes\\\\\\\":[{\\\\\\\"diagrams\\\\\\\":[{\\\\\\\"type\\\\\\\":\\\\\\\"scatter\\\\\\\",\\\\\\\"options\\\\\\\":{\\\\\\\"x\\\\\\\":\\\\\\\"data0\\\\\\\",\\\\\\\"y\\\\\\\":\\\\\\\"data1\\\\\\\",\\\\\\\"color\\\\\\\":\\\\\\\"red\\\\\\\"},\\\\\\\"data\\\\\\\":\\\\\\\"a18d0ab1-50b6-440e-9b0e-f63cd8137b58\\\\\\\"},{\\\\\\\"type\\\\\\\":\\\\\\\"line\\\\\\\",\\\\\\\"options\\\\\\\":{\\\\\\\"x\\\\\\\":\\\\\\\"data0\\\\\\\",\\\\\\\"y\\\\\\\":\\\\\\\"data1\\\\\\\",\\\\\\\"color\\\\\\\":\\\\\\\"blue\\\\\\\"},\\\\\\\"data\\\\\\\":\\\\\\\"ad615dff-2874-42b9-b600-b5e46051a5e4\\\\\\\"}],\\\\\\\"options\\\\\\\":{\\\\\\\"x_label\\\\\\\":\\\\\\\"Years of Experience\\\\\\\",\\\\\\\"y_label\\\\\\\":\\\\\\\"Salary\\\\\\\",\\\\\\\"zoom\\\\\\\":true,\\\\\\\"width\\\\\\\":700,\\\\\\\"xrange\\\\\\\":[[1.1],[7.9]],\\\\\\\"yrange\\\\\\\":[[37380.11445789344],[101302.0]]}}],\\\\\\\"data\\\\\\\":{\\\\\\\"a18d0ab1-50b6-440e-9b0e-f63cd8137b58\\\\\\\":[{\\\\\\\"data0\\\\\\\":[2.9],\\\\\\\"data1\\\\\\\":[56642.0]},{\\\\\\\"data0\\\\\\\":[4.0],\\\\\\\"data1\\\\\\\":[56957.0]},{\\\\\\\"data0\\\\\\\":[4.5],\\\\\\\"data1\\\\\\\":[61111.0]},{\\\\\\\"data0\\\\\\\":[3.7],\\\\\\\"data1\\\\\\\":[57189.0]},{\\\\\\\"data0\\\\\\\":[4.0],\\\\\\\"data1\\\\\\\":[55794.0]},{\\\\\\\"data0\\\\\\\":[5.1],\\\\\\\"data1\\\\\\\":[66029.0]},{\\\\\\\"data0\\\\\\\":[3.0],\\\\\\\"data1\\\\\\\":[60150.0]},{\\\\\\\"data0\\\\\\\":[7.9],\\\\\\\"data1\\\\\\\":[101302.0]},{\\\\\\\"data0\\\\\\\":[1.1],\\\\\\\"data1\\\\\\\":[39343.0]}],\\\\\\\"ad615dff-2874-42b9-b600-b5e46051a5e4\\\\\\\":[{\\\\\\\"data0\\\\\\\":[2.9],\\\\\\\"data1\\\\\\\":[54293.83147579183]},{\\\\\\\"data0\\\\\\\":[4.0],\\\\\\\"data1\\\\\\\":[64629.99187561862]},{\\\\\\\"data0\\\\\\\":[4.5],\\\\\\\"data1\\\\\\\":[69328.24660281262]},{\\\\\\\"data0\\\\\\\":[3.7],\\\\\\\"data1\\\\\\\":[61811.039039302224]},{\\\\\\\"data0\\\\\\\":[4.0],\\\\\\\"data1\\\\\\\":[64629.99187561862]},{\\\\\\\"data0\\\\\\\":[5.1],\\\\\\\"data1\\\\\\\":[74966.15227544542]},{\\\\\\\"data0\\\\\\\":[3.0],\\\\\\\"data1\\\\\\\":[55233.48242123063]},{\\\\\\\"data0\\\\\\\":[7.9],\\\\\\\"data1\\\\\\\":[101276.37874773181]},{\\\\\\\"data0\\\\\\\":[1.1],\\\\\\\"data1\\\\\\\":[37380.11445789344]}]},\\\\\\\"extension\\\\\\\":[]}\\\\n        var id_name = '#vis-822b84c5-3556-44ba-995f-2030c5fd211c';\\\\n        Nyaplot.core.parse(model, id_name);\\\\n\\\\n        require(['downloadable'], function(downloadable){\\\\n          var svg = d3.select(id_name).select(\\\\\\\"svg\\\\\\\");\\\\n\\\\t  if(!svg.empty())\\\\n\\\\t    svg.call(downloadable().filename('fig'));\\\\n\\\\t});\\\\n    };\\\\n    if(window['Nyaplot']==undefined){\\\\n        window.addEventListener('load_nyaplot', render, false);\\\\n\\\\treturn;\\\\n    } else {\\\\n       render();\\\\n    }\\\\n})();\\\\n</script>\\\\n\\\",\\\"text/plain\\\":\\\"#<Nyaplot::Frame:0x00007feb4a99bcf8 @properties={:panes=>[#<Nyaplot::Plot:0x00007feb4e96f3e8 @properties={:diagrams=>[#<Nyaplot::Diagram:0x00007feb4e96c940 @properties={:type=>:scatter, :options=>{:x=>\\\\\\\"data0\\\\\\\", :y=>\\\\\\\"data1\\\\\\\", :color=>\\\\\\\"red\\\\\\\"}, :data=>\\\\\\\"a18d0ab1-50b6-440e-9b0e-f63cd8137b58\\\\\\\"}, @xrange=[[1.1], [7.9]], @yrange=[[39343.0], [101302.0]]>, #<Nyaplot::Diagram:0x00007feb4a9a1018 @properties={:type=>:line, :options=>{:x=>\\\\\\\"data0\\\\\\\", :y=>\\\\\\\"data1\\\\\\\", :color=>\\\\\\\"blue\\\\\\\"}, :data=>\\\\\\\"ad615dff-2874-42b9-b600-b5e46051a5e4\\\\\\\"}, @xrange=[[1.1], [7.9]], @yrange=[[37380.11445789344], [101276.37874773181]]>], :options=>{:x_label=>\\\\\\\"Years of Experience\\\\\\\", :y_label=>\\\\\\\"Salary\\\\\\\", :zoom=>true, :width=>700, :xrange=>[[1.1], [7.9]], :yrange=>[[37380.11445789344], [101302.0]]}}>], :data=>{\\\\\\\"a18d0ab1-50b6-440e-9b0e-f63cd8137b58\\\\\\\"=>#<Nyaplot::DataFrame:0x00007feb4e96e3d0 @name=\\\\\\\"a18d0ab1-50b6-440e-9b0e-f63cd8137b58\\\\\\\", @rows=[{:data0=>[2.9], :data1=>[56642.0]}, {:data0=>[4.0], :data1=>[56957.0]}, {:data0=>[4.5], :data1=>[61111.0]}, {:data0=>[3.7], :data1=>[57189.0]}, {:data0=>[4.0], :data1=>[55794.0]}, {:data0=>[5.1], :data1=>[66029.0]}, {:data0=>[3.0], :data1=>[60150.0]}, {:data0=>[7.9], :data1=>[101302.0]}, {:data0=>[1.1], :data1=>[39343.0]}]>, \\\\\\\"ad615dff-2874-42b9-b600-b5e46051a5e4\\\\\\\"=>#<Nyaplot::DataFrame:0x00007feb4a9a2d00 @name=\\\\\\\"ad615dff-2874-42b9-b600-b5e46051a5e4\\\\\\\", @rows=[{:data0=>[2.9], :data1=>[54293.83147579183]}, {:data0=>[4.0], :data1=>[64629.99187561862]}, {:data0=>[4.5], :data1=>[69328.24660281262]}, {:data0=>[3.7], :data1=>[61811.039039302224]}, {:data0=>[4.0], :data1=>[64629.99187561862]}, {:data0=>[5.1], :data1=>[74966.15227544542]}, {:data0=>[3.0], :data1=>[55233.48242123063]}, {:data0=>[7.9], :data1=>[101276.37874773181]}, {:data0=>[1.1], :data1=>[37380.11445789344]}]>}, :extension=>[]}>\\\"},\\\"metadata\\\":{}}\"]"
      ]
     },
     "execution_count": 7,
     "metadata": {},
     "output_type": "execute_result"
    }
   ],
   "source": [
    "# Visualize training set results\n",
    "plot = Nyaplot::Plot.new\n",
    "plot.x_label(\"Years of Experience\")\n",
    "plot.y_label(\"Salary\")\n",
    "scatter = plot.add(:scatter, x_test.to_a, y_test.to_a).color('red')\n",
    "line = plot.add(:line, x_test.to_a, y_pred.to_a).color('blue')\n",
    "plot.show"
   ]
  },
  {
   "cell_type": "code",
   "execution_count": 8,
   "metadata": {},
   "outputs": [
    {
     "data": {
      "text/latex": [
       "$$\\left(\\begin{array}{c}\n",
       "  308939.2376897065\\\\\n",
       "  590834.5213213463\\\\\n",
       "\\end{array}\\right)$$"
      ],
      "text/plain": [
       "Numo::DFloat#shape=[2,1]\n",
       "[[308939], \n",
       " [590835]]"
      ]
     },
     "execution_count": 8,
     "metadata": {},
     "output_type": "execute_result"
    }
   ],
   "source": [
    "model.predict([[30],[60]])"
   ]
  },
  {
   "cell_type": "code",
   "execution_count": null,
   "metadata": {},
   "outputs": [],
   "source": []
  }
 ],
 "metadata": {
  "kernelspec": {
   "display_name": "Ruby 2.7.0",
   "language": "ruby",
   "name": "ruby"
  },
  "language_info": {
   "file_extension": ".rb",
   "mimetype": "application/x-ruby",
   "name": "ruby",
   "version": "2.7.0"
  }
 },
 "nbformat": 4,
 "nbformat_minor": 2
}
