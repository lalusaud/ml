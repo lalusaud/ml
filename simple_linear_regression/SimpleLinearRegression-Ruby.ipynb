{
 "cells": [
  {
   "cell_type": "code",
   "execution_count": 9,
   "metadata": {},
   "outputs": [
    {
     "data": {
      "text/plain": [
       "false"
      ]
     },
     "execution_count": 9,
     "metadata": {},
     "output_type": "execute_result"
    }
   ],
   "source": [
    "# Import Libraries\n",
    "require 'daru'\n",
    "require 'numo/linalg/autoloader'\n",
    "require 'rumale'\n",
    "require 'nyaplot'"
   ]
  },
  {
   "cell_type": "code",
   "execution_count": 10,
   "metadata": {},
   "outputs": [
    {
     "data": {
      "text/latex": [
       "$$\\left(\\begin{array}{cc}\n",
       "  1.1&39343.0\\\\\n",
       "  1.3&46205.0\\\\\n",
       "  1.5&37731.0\\\\\n",
       "  2.0&43525.0\\\\\n",
       "  2.2&39891.0\\\\\n",
       "  2.9&56642.0\\\\\n",
       "  3.0&60150.0\\\\\n",
       "  3.2&54445.0\\\\\n",
       "  3.2&64445.0\\\\\n",
       "  3.7&57189.0\\\\\n",
       "  3.9&63218.0\\\\\n",
       "  4.0&55794.0\\\\\n",
       "  4.0&56957.0\\\\\n",
       "  4.1&57081.0\\\\\n",
       "  4.5&61111.0\\\\\n",
       "  4.9&67938.0\\\\\n",
       "  5.1&66029.0\\\\\n",
       "  5.3&83088.0\\\\\n",
       "  5.9&81363.0\\\\\n",
       "  6.0&93940.0\\\\\n",
       "  6.8&91738.0\\\\\n",
       "  7.1&98273.0\\\\\n",
       "  7.9&101302.0\\\\\n",
       "  8.2&113812.0\\\\\n",
       "  8.7&109431.0\\\\\n",
       "  9.0&105582.0\\\\\n",
       "  9.5&116969.0\\\\\n",
       "  9.6&112635.0\\\\\n",
       "  10.3&122391.0\\\\\n",
       "  10.5&121872.0\\\\\n",
       "\\end{array}\\right)$$"
      ],
      "text/plain": [
       "Numo::DFloat#shape=[30,2]\n",
       "[[1.1, 39343], \n",
       " [1.3, 46205], \n",
       " [1.5, 37731], \n",
       " [2, 43525], \n",
       " [2.2, 39891], \n",
       " [2.9, 56642], \n",
       " [3, 60150], \n",
       " [3.2, 54445], \n",
       " [3.2, 64445], \n",
       " [3.7, 57189], \n",
       " [3.9, 63218], \n",
       " [4, 55794], \n",
       " [4, 56957], \n",
       " [4.1, 57081], \n",
       " [4.5, 61111], \n",
       " [4.9, 67938], \n",
       " [5.1, 66029], \n",
       " [5.3, 83088], \n",
       " [5.9, 81363], \n",
       " [6, 93940], \n",
       " ..."
      ]
     },
     "execution_count": 10,
     "metadata": {},
     "output_type": "execute_result"
    }
   ],
   "source": [
    "# Import Dataset\n",
    "df = Daru::DataFrame.from_csv('salary_data.csv')\n",
    "\n",
    "# Convert dataset to Numo::NArray dataset\n",
    "data = Numo::DFloat.cast df['YearsExperience', 'Salary'].to_a[0].map { |data| data.values }"
   ]
  },
  {
   "cell_type": "code",
   "execution_count": 11,
   "metadata": {},
   "outputs": [
    {
     "data": {
      "text/plain": [
       "[[[1, 2, 3, 4, 7, 8, 10, 13, 15, 17, 18, 19, 20, 21, 23, 24, 25, 26, 27, 28, 29], [5, 12, 14, 9, 11, 16, 6, 22, 0]]]"
      ]
     },
     "execution_count": 11,
     "metadata": {},
     "output_type": "execute_result"
    }
   ],
   "source": [
    "# Split dataset into Training and Test set\n",
    "x_train, y_train, x_test, y_test = nil\n",
    "Rumale::ModelSelection::ShuffleSplit.new(test_size: 0.3, n_splits: 1, random_seed: 1).split(data).each do |train, test|\n",
    "  x_train, y_train = data[train, true][true, 0..-2], data[train, true][true, 1..-1]\n",
    "  x_test, y_test = data[test, true][true, 0..-2], data[test, true][true, 1..-1]\n",
    "end"
   ]
  },
  {
   "cell_type": "code",
   "execution_count": 12,
   "metadata": {},
   "outputs": [
    {
     "data": {
      "text/latex": [
       "$$\\left(\\begin{array}{c}\n",
       "  54293.83147579183\\\\\n",
       "  64629.99187561862\\\\\n",
       "  69328.24660281262\\\\\n",
       "  61811.039039302224\\\\\n",
       "  64629.99187561862\\\\\n",
       "  74966.15227544542\\\\\n",
       "  55233.48242123063\\\\\n",
       "  101276.37874773181\\\\\n",
       "  37380.11445789344\\\\\n",
       "\\end{array}\\right)$$"
      ],
      "text/plain": [
       "Numo::DFloat#shape=[9,1]\n",
       "[[54293.8], \n",
       " [64630], \n",
       " [69328.2], \n",
       " [61811], \n",
       " [64630], \n",
       " [74966.2], \n",
       " [55233.5], \n",
       " [101276], \n",
       " [37380.1]]"
      ]
     },
     "execution_count": 12,
     "metadata": {},
     "output_type": "execute_result"
    }
   ],
   "source": [
    "# Fit traning set data and predict test set results\n",
    "model = Rumale::LinearModel::LinearRegression.new(solver: 'svd')\n",
    "model.fit(x_train, y_train)\n",
    "\n",
    "# predict\n",
    "y_pred = model.predict(x_test)"
   ]
  },
  {
   "cell_type": "code",
   "execution_count": 13,
   "metadata": {},
   "outputs": [
    {
     "data": {
      "text/html": [
       "<div id='vis-c05f0be2-7b1f-48aa-970f-822005c6321e'></div>\n",
       "<script>\n",
       "(function(){\n",
       "    var render = function(){\n",
       "        var model = {\"panes\":[{\"diagrams\":[{\"type\":\"scatter\",\"options\":{\"x\":\"data0\",\"y\":\"data1\",\"color\":\"red\"},\"data\":\"14aca800-7f39-4d54-8461-ca9c69c0c537\"},{\"type\":\"line\",\"options\":{\"x\":\"data0\",\"y\":\"data1\",\"color\":\"blue\"},\"data\":\"70251520-9a11-4d23-89a9-9c0e09c6b774\"}],\"options\":{\"x_label\":\"Age\",\"y_label\":\"Salary\",\"zoom\":true,\"width\":700,\"xrange\":[[1.3],[10.5]],\"yrange\":[[37731.0],[125707.3033291406]]}}],\"data\":{\"14aca800-7f39-4d54-8461-ca9c69c0c537\":[{\"data0\":[1.3],\"data1\":[46205.0]},{\"data0\":[1.5],\"data1\":[37731.0]},{\"data0\":[2.0],\"data1\":[43525.0]},{\"data0\":[2.2],\"data1\":[39891.0]},{\"data0\":[3.2],\"data1\":[54445.0]},{\"data0\":[3.2],\"data1\":[64445.0]},{\"data0\":[3.9],\"data1\":[63218.0]},{\"data0\":[4.1],\"data1\":[57081.0]},{\"data0\":[4.9],\"data1\":[67938.0]},{\"data0\":[5.3],\"data1\":[83088.0]},{\"data0\":[5.9],\"data1\":[81363.0]},{\"data0\":[6.0],\"data1\":[93940.0]},{\"data0\":[6.8],\"data1\":[91738.0]},{\"data0\":[7.1],\"data1\":[98273.0]},{\"data0\":[8.2],\"data1\":[113812.0]},{\"data0\":[8.7],\"data1\":[109431.0]},{\"data0\":[9.0],\"data1\":[105582.0]},{\"data0\":[9.5],\"data1\":[116969.0]},{\"data0\":[9.6],\"data1\":[112635.0]},{\"data0\":[10.3],\"data1\":[122391.0]},{\"data0\":[10.5],\"data1\":[121872.0]}],\"70251520-9a11-4d23-89a9-9c0e09c6b774\":[{\"data0\":[1.3],\"data1\":[39259.41634877104]},{\"data0\":[1.5],\"data1\":[41138.71823964864]},{\"data0\":[2.0],\"data1\":[45836.97296684264]},{\"data0\":[2.2],\"data1\":[47716.27485772024]},{\"data0\":[3.2],\"data1\":[57112.78431210823]},{\"data0\":[3.2],\"data1\":[57112.78431210823]},{\"data0\":[3.9],\"data1\":[63690.340930179824]},{\"data0\":[4.1],\"data1\":[65569.64282105742]},{\"data0\":[4.9],\"data1\":[73086.85038456782]},{\"data0\":[5.3],\"data1\":[76845.45416632302]},{\"data0\":[5.9],\"data1\":[82483.35983895582]},{\"data0\":[6.0],\"data1\":[83423.01078439462]},{\"data0\":[6.8],\"data1\":[90940.21834790501]},{\"data0\":[7.1],\"data1\":[93759.17118422141]},{\"data0\":[8.2],\"data1\":[104095.33158404821]},{\"data0\":[8.7],\"data1\":[108793.5863112422]},{\"data0\":[9.0],\"data1\":[111612.53914755861]},{\"data0\":[9.5],\"data1\":[116310.7938747526]},{\"data0\":[9.6],\"data1\":[117250.4448201914]},{\"data0\":[10.3],\"data1\":[123828.001438263]},{\"data0\":[10.5],\"data1\":[125707.3033291406]}]},\"extension\":[]}\n",
       "        var id_name = '#vis-c05f0be2-7b1f-48aa-970f-822005c6321e';\n",
       "        Nyaplot.core.parse(model, id_name);\n",
       "\n",
       "        require(['downloadable'], function(downloadable){\n",
       "          var svg = d3.select(id_name).select(\"svg\");\n",
       "\t  if(!svg.empty())\n",
       "\t    svg.call(downloadable().filename('fig'));\n",
       "\t});\n",
       "    };\n",
       "    if(window['Nyaplot']==undefined){\n",
       "        window.addEventListener('load_nyaplot', render, false);\n",
       "\treturn;\n",
       "    } else {\n",
       "       render();\n",
       "    }\n",
       "})();\n",
       "</script>\n"
      ],
      "text/plain": [
       "#<Nyaplot::Frame:0x00007feb4c992f20 @properties={:panes=>[#<Nyaplot::Plot:0x00007feb4c9b6fb0 @properties={:diagrams=>[#<Nyaplot::Diagram:0x00007feb4c9b4490 @properties={:type=>:scatter, :options=>{:x=>\"data0\", :y=>\"data1\", :color=>\"red\"}, :data=>\"14aca800-7f39-4d54-8461-ca9c69c0c537\"}, @xrange=[[1.3], [10.5]], @yrange=[[37731.0], [122391.0]]>, #<Nyaplot::Diagram:0x00007feb4c9939c0 @properties={:type=>:line, :options=>{:x=>\"data0\", :y=>\"data1\", :color=>\"blue\"}, :data=>\"70251520-9a11-4d23-89a9-9c0e09c6b774\"}, @xrange=[[1.3], [10.5]], @yrange=[[39259.41634877104], [125707.3033291406]]>], :options=>{:x_label=>\"Age\", :y_label=>\"Salary\", :zoom=>true, :width=>700, :xrange=>[[1.3], [10.5]], :yrange=>[[37731.0], [125707.3033291406]]}}>], :data=>{\"14aca800-7f39-4d54-8461-ca9c69c0c537\"=>#<Nyaplot::DataFrame:0x00007feb4c9b5d90 @name=\"14aca800-7f39-4d54-8461-ca9c69c0c537\", @rows=[{:data0=>[1.3], :data1=>[46205.0]}, {:data0=>[1.5], :data1=>[37731.0]}, {:data0=>[2.0], :data1=>[43525.0]}, {:data0=>[2.2], :data1=>[39891.0]}, {:data0=>[3.2], :data1=>[54445.0]}, {:data0=>[3.2], :data1=>[64445.0]}, {:data0=>[3.9], :data1=>[63218.0]}, {:data0=>[4.1], :data1=>[57081.0]}, {:data0=>[4.9], :data1=>[67938.0]}, {:data0=>[5.3], :data1=>[83088.0]}, {:data0=>[5.9], :data1=>[81363.0]}, {:data0=>[6.0], :data1=>[93940.0]}, {:data0=>[6.8], :data1=>[91738.0]}, {:data0=>[7.1], :data1=>[98273.0]}, {:data0=>[8.2], :data1=>[113812.0]}, {:data0=>[8.7], :data1=>[109431.0]}, {:data0=>[9.0], :data1=>[105582.0]}, {:data0=>[9.5], :data1=>[116969.0]}, {:data0=>[9.6], :data1=>[112635.0]}, {:data0=>[10.3], :data1=>[122391.0]}, {:data0=>[10.5], :data1=>[121872.0]}]>, \"70251520-9a11-4d23-89a9-9c0e09c6b774\"=>#<Nyaplot::DataFrame:0x00007feb4c999a50 @name=\"70251520-9a11-4d23-89a9-9c0e09c6b774\", @rows=[{:data0=>[1.3], :data1=>[39259.41634877104]}, {:data0=>[1.5], :data1=>[41138.71823964864]}, {:data0=>[2.0], :data1=>[45836.97296684264]}, {:data0=>[2.2], :data1=>[47716.27485772024]}, {:data0=>[3.2], :data1=>[57112.78431210823]}, {:data0=>[3.2], :data1=>[57112.78431210823]}, {:data0=>[3.9], :data1=>[63690.340930179824]}, {:data0=>[4.1], :data1=>[65569.64282105742]}, {:data0=>[4.9], :data1=>[73086.85038456782]}, {:data0=>[5.3], :data1=>[76845.45416632302]}, {:data0=>[5.9], :data1=>[82483.35983895582]}, {:data0=>[6.0], :data1=>[83423.01078439462]}, {:data0=>[6.8], :data1=>[90940.21834790501]}, {:data0=>[7.1], :data1=>[93759.17118422141]}, {:data0=>[8.2], :data1=>[104095.33158404821]}, {:data0=>[8.7], :data1=>[108793.5863112422]}, {:data0=>[9.0], :data1=>[111612.53914755861]}, {:data0=>[9.5], :data1=>[116310.7938747526]}, {:data0=>[9.6], :data1=>[117250.4448201914]}, {:data0=>[10.3], :data1=>[123828.001438263]}, {:data0=>[10.5], :data1=>[125707.3033291406]}]>}, :extension=>[]}>"
      ]
     },
     "metadata": {},
     "output_type": "display_data"
    },
    {
     "data": {
      "text/plain": [
       "[\"display_data\", \"<IDS|MSG>\", \"27573b17db538f5688c0414e06755e3802f045978bc15a0e8fd441561137f8fa\", \"{\\\"msg_type\\\":\\\"display_data\\\",\\\"msg_id\\\":\\\"abd90212-6131-418d-8f34-27d07454d996\\\",\\\"username\\\":\\\"kernel\\\",\\\"session\\\":\\\"9a74b59f-fba4-4bb1-9527-154ee36cb9a1\\\",\\\"version\\\":\\\"5.0\\\"}\", \"{\\\"msg_id\\\":\\\"71420fe532d745c8887817407e80b47c\\\",\\\"username\\\":\\\"username\\\",\\\"session\\\":\\\"5d15d7670e1d40388c512fd5f1d198c6\\\",\\\"msg_type\\\":\\\"execute_request\\\",\\\"version\\\":\\\"5.2\\\",\\\"date\\\":\\\"2020-02-20T06:42:17.139647Z\\\"}\", \"{}\", \"{\\\"data\\\":{\\\"text/html\\\":\\\"<div id='vis-c05f0be2-7b1f-48aa-970f-822005c6321e'></div>\\\\n<script>\\\\n(function(){\\\\n    var render = function(){\\\\n        var model = {\\\\\\\"panes\\\\\\\":[{\\\\\\\"diagrams\\\\\\\":[{\\\\\\\"type\\\\\\\":\\\\\\\"scatter\\\\\\\",\\\\\\\"options\\\\\\\":{\\\\\\\"x\\\\\\\":\\\\\\\"data0\\\\\\\",\\\\\\\"y\\\\\\\":\\\\\\\"data1\\\\\\\",\\\\\\\"color\\\\\\\":\\\\\\\"red\\\\\\\"},\\\\\\\"data\\\\\\\":\\\\\\\"14aca800-7f39-4d54-8461-ca9c69c0c537\\\\\\\"},{\\\\\\\"type\\\\\\\":\\\\\\\"line\\\\\\\",\\\\\\\"options\\\\\\\":{\\\\\\\"x\\\\\\\":\\\\\\\"data0\\\\\\\",\\\\\\\"y\\\\\\\":\\\\\\\"data1\\\\\\\",\\\\\\\"color\\\\\\\":\\\\\\\"blue\\\\\\\"},\\\\\\\"data\\\\\\\":\\\\\\\"70251520-9a11-4d23-89a9-9c0e09c6b774\\\\\\\"}],\\\\\\\"options\\\\\\\":{\\\\\\\"x_label\\\\\\\":\\\\\\\"Age\\\\\\\",\\\\\\\"y_label\\\\\\\":\\\\\\\"Salary\\\\\\\",\\\\\\\"zoom\\\\\\\":true,\\\\\\\"width\\\\\\\":700,\\\\\\\"xrange\\\\\\\":[[1.3],[10.5]],\\\\\\\"yrange\\\\\\\":[[37731.0],[125707.3033291406]]}}],\\\\\\\"data\\\\\\\":{\\\\\\\"14aca800-7f39-4d54-8461-ca9c69c0c537\\\\\\\":[{\\\\\\\"data0\\\\\\\":[1.3],\\\\\\\"data1\\\\\\\":[46205.0]},{\\\\\\\"data0\\\\\\\":[1.5],\\\\\\\"data1\\\\\\\":[37731.0]},{\\\\\\\"data0\\\\\\\":[2.0],\\\\\\\"data1\\\\\\\":[43525.0]},{\\\\\\\"data0\\\\\\\":[2.2],\\\\\\\"data1\\\\\\\":[39891.0]},{\\\\\\\"data0\\\\\\\":[3.2],\\\\\\\"data1\\\\\\\":[54445.0]},{\\\\\\\"data0\\\\\\\":[3.2],\\\\\\\"data1\\\\\\\":[64445.0]},{\\\\\\\"data0\\\\\\\":[3.9],\\\\\\\"data1\\\\\\\":[63218.0]},{\\\\\\\"data0\\\\\\\":[4.1],\\\\\\\"data1\\\\\\\":[57081.0]},{\\\\\\\"data0\\\\\\\":[4.9],\\\\\\\"data1\\\\\\\":[67938.0]},{\\\\\\\"data0\\\\\\\":[5.3],\\\\\\\"data1\\\\\\\":[83088.0]},{\\\\\\\"data0\\\\\\\":[5.9],\\\\\\\"data1\\\\\\\":[81363.0]},{\\\\\\\"data0\\\\\\\":[6.0],\\\\\\\"data1\\\\\\\":[93940.0]},{\\\\\\\"data0\\\\\\\":[6.8],\\\\\\\"data1\\\\\\\":[91738.0]},{\\\\\\\"data0\\\\\\\":[7.1],\\\\\\\"data1\\\\\\\":[98273.0]},{\\\\\\\"data0\\\\\\\":[8.2],\\\\\\\"data1\\\\\\\":[113812.0]},{\\\\\\\"data0\\\\\\\":[8.7],\\\\\\\"data1\\\\\\\":[109431.0]},{\\\\\\\"data0\\\\\\\":[9.0],\\\\\\\"data1\\\\\\\":[105582.0]},{\\\\\\\"data0\\\\\\\":[9.5],\\\\\\\"data1\\\\\\\":[116969.0]},{\\\\\\\"data0\\\\\\\":[9.6],\\\\\\\"data1\\\\\\\":[112635.0]},{\\\\\\\"data0\\\\\\\":[10.3],\\\\\\\"data1\\\\\\\":[122391.0]},{\\\\\\\"data0\\\\\\\":[10.5],\\\\\\\"data1\\\\\\\":[121872.0]}],\\\\\\\"70251520-9a11-4d23-89a9-9c0e09c6b774\\\\\\\":[{\\\\\\\"data0\\\\\\\":[1.3],\\\\\\\"data1\\\\\\\":[39259.41634877104]},{\\\\\\\"data0\\\\\\\":[1.5],\\\\\\\"data1\\\\\\\":[41138.71823964864]},{\\\\\\\"data0\\\\\\\":[2.0],\\\\\\\"data1\\\\\\\":[45836.97296684264]},{\\\\\\\"data0\\\\\\\":[2.2],\\\\\\\"data1\\\\\\\":[47716.27485772024]},{\\\\\\\"data0\\\\\\\":[3.2],\\\\\\\"data1\\\\\\\":[57112.78431210823]},{\\\\\\\"data0\\\\\\\":[3.2],\\\\\\\"data1\\\\\\\":[57112.78431210823]},{\\\\\\\"data0\\\\\\\":[3.9],\\\\\\\"data1\\\\\\\":[63690.340930179824]},{\\\\\\\"data0\\\\\\\":[4.1],\\\\\\\"data1\\\\\\\":[65569.64282105742]},{\\\\\\\"data0\\\\\\\":[4.9],\\\\\\\"data1\\\\\\\":[73086.85038456782]},{\\\\\\\"data0\\\\\\\":[5.3],\\\\\\\"data1\\\\\\\":[76845.45416632302]},{\\\\\\\"data0\\\\\\\":[5.9],\\\\\\\"data1\\\\\\\":[82483.35983895582]},{\\\\\\\"data0\\\\\\\":[6.0],\\\\\\\"data1\\\\\\\":[83423.01078439462]},{\\\\\\\"data0\\\\\\\":[6.8],\\\\\\\"data1\\\\\\\":[90940.21834790501]},{\\\\\\\"data0\\\\\\\":[7.1],\\\\\\\"data1\\\\\\\":[93759.17118422141]},{\\\\\\\"data0\\\\\\\":[8.2],\\\\\\\"data1\\\\\\\":[104095.33158404821]},{\\\\\\\"data0\\\\\\\":[8.7],\\\\\\\"data1\\\\\\\":[108793.5863112422]},{\\\\\\\"data0\\\\\\\":[9.0],\\\\\\\"data1\\\\\\\":[111612.53914755861]},{\\\\\\\"data0\\\\\\\":[9.5],\\\\\\\"data1\\\\\\\":[116310.7938747526]},{\\\\\\\"data0\\\\\\\":[9.6],\\\\\\\"data1\\\\\\\":[117250.4448201914]},{\\\\\\\"data0\\\\\\\":[10.3],\\\\\\\"data1\\\\\\\":[123828.001438263]},{\\\\\\\"data0\\\\\\\":[10.5],\\\\\\\"data1\\\\\\\":[125707.3033291406]}]},\\\\\\\"extension\\\\\\\":[]}\\\\n        var id_name = '#vis-c05f0be2-7b1f-48aa-970f-822005c6321e';\\\\n        Nyaplot.core.parse(model, id_name);\\\\n\\\\n        require(['downloadable'], function(downloadable){\\\\n          var svg = d3.select(id_name).select(\\\\\\\"svg\\\\\\\");\\\\n\\\\t  if(!svg.empty())\\\\n\\\\t    svg.call(downloadable().filename('fig'));\\\\n\\\\t});\\\\n    };\\\\n    if(window['Nyaplot']==undefined){\\\\n        window.addEventListener('load_nyaplot', render, false);\\\\n\\\\treturn;\\\\n    } else {\\\\n       render();\\\\n    }\\\\n})();\\\\n</script>\\\\n\\\",\\\"text/plain\\\":\\\"#<Nyaplot::Frame:0x00007feb4c992f20 @properties={:panes=>[#<Nyaplot::Plot:0x00007feb4c9b6fb0 @properties={:diagrams=>[#<Nyaplot::Diagram:0x00007feb4c9b4490 @properties={:type=>:scatter, :options=>{:x=>\\\\\\\"data0\\\\\\\", :y=>\\\\\\\"data1\\\\\\\", :color=>\\\\\\\"red\\\\\\\"}, :data=>\\\\\\\"14aca800-7f39-4d54-8461-ca9c69c0c537\\\\\\\"}, @xrange=[[1.3], [10.5]], @yrange=[[37731.0], [122391.0]]>, #<Nyaplot::Diagram:0x00007feb4c9939c0 @properties={:type=>:line, :options=>{:x=>\\\\\\\"data0\\\\\\\", :y=>\\\\\\\"data1\\\\\\\", :color=>\\\\\\\"blue\\\\\\\"}, :data=>\\\\\\\"70251520-9a11-4d23-89a9-9c0e09c6b774\\\\\\\"}, @xrange=[[1.3], [10.5]], @yrange=[[39259.41634877104], [125707.3033291406]]>], :options=>{:x_label=>\\\\\\\"Age\\\\\\\", :y_label=>\\\\\\\"Salary\\\\\\\", :zoom=>true, :width=>700, :xrange=>[[1.3], [10.5]], :yrange=>[[37731.0], [125707.3033291406]]}}>], :data=>{\\\\\\\"14aca800-7f39-4d54-8461-ca9c69c0c537\\\\\\\"=>#<Nyaplot::DataFrame:0x00007feb4c9b5d90 @name=\\\\\\\"14aca800-7f39-4d54-8461-ca9c69c0c537\\\\\\\", @rows=[{:data0=>[1.3], :data1=>[46205.0]}, {:data0=>[1.5], :data1=>[37731.0]}, {:data0=>[2.0], :data1=>[43525.0]}, {:data0=>[2.2], :data1=>[39891.0]}, {:data0=>[3.2], :data1=>[54445.0]}, {:data0=>[3.2], :data1=>[64445.0]}, {:data0=>[3.9], :data1=>[63218.0]}, {:data0=>[4.1], :data1=>[57081.0]}, {:data0=>[4.9], :data1=>[67938.0]}, {:data0=>[5.3], :data1=>[83088.0]}, {:data0=>[5.9], :data1=>[81363.0]}, {:data0=>[6.0], :data1=>[93940.0]}, {:data0=>[6.8], :data1=>[91738.0]}, {:data0=>[7.1], :data1=>[98273.0]}, {:data0=>[8.2], :data1=>[113812.0]}, {:data0=>[8.7], :data1=>[109431.0]}, {:data0=>[9.0], :data1=>[105582.0]}, {:data0=>[9.5], :data1=>[116969.0]}, {:data0=>[9.6], :data1=>[112635.0]}, {:data0=>[10.3], :data1=>[122391.0]}, {:data0=>[10.5], :data1=>[121872.0]}]>, \\\\\\\"70251520-9a11-4d23-89a9-9c0e09c6b774\\\\\\\"=>#<Nyaplot::DataFrame:0x00007feb4c999a50 @name=\\\\\\\"70251520-9a11-4d23-89a9-9c0e09c6b774\\\\\\\", @rows=[{:data0=>[1.3], :data1=>[39259.41634877104]}, {:data0=>[1.5], :data1=>[41138.71823964864]}, {:data0=>[2.0], :data1=>[45836.97296684264]}, {:data0=>[2.2], :data1=>[47716.27485772024]}, {:data0=>[3.2], :data1=>[57112.78431210823]}, {:data0=>[3.2], :data1=>[57112.78431210823]}, {:data0=>[3.9], :data1=>[63690.340930179824]}, {:data0=>[4.1], :data1=>[65569.64282105742]}, {:data0=>[4.9], :data1=>[73086.85038456782]}, {:data0=>[5.3], :data1=>[76845.45416632302]}, {:data0=>[5.9], :data1=>[82483.35983895582]}, {:data0=>[6.0], :data1=>[83423.01078439462]}, {:data0=>[6.8], :data1=>[90940.21834790501]}, {:data0=>[7.1], :data1=>[93759.17118422141]}, {:data0=>[8.2], :data1=>[104095.33158404821]}, {:data0=>[8.7], :data1=>[108793.5863112422]}, {:data0=>[9.0], :data1=>[111612.53914755861]}, {:data0=>[9.5], :data1=>[116310.7938747526]}, {:data0=>[9.6], :data1=>[117250.4448201914]}, {:data0=>[10.3], :data1=>[123828.001438263]}, {:data0=>[10.5], :data1=>[125707.3033291406]}]>}, :extension=>[]}>\\\"},\\\"metadata\\\":{}}\"]"
      ]
     },
     "execution_count": 13,
     "metadata": {},
     "output_type": "execute_result"
    }
   ],
   "source": [
    "# Visualize training set results\n",
    "plot = Nyaplot::Plot.new\n",
    "plot.x_label(\"Age\")\n",
    "plot.y_label(\"Salary\")\n",
    "plot.add(:scatter, x_train.to_a, y_train.to_a).color('red')\n",
    "plot.add(:line, x_train.to_a, model.predict(x_train).to_a).color('blue')\n",
    "plot.show"
   ]
  },
  {
   "cell_type": "code",
   "execution_count": 14,
   "metadata": {
    "scrolled": false
   },
   "outputs": [
    {
     "data": {
      "text/html": [
       "<div id='vis-a70b706c-6e76-4918-90f3-50d950334f46'></div>\n",
       "<script>\n",
       "(function(){\n",
       "    var render = function(){\n",
       "        var model = {\"panes\":[{\"diagrams\":[{\"type\":\"scatter\",\"options\":{\"x\":\"data0\",\"y\":\"data1\",\"color\":\"red\"},\"data\":\"d826a58f-d696-49a5-8d00-ab8bb0a8dd6d\"},{\"type\":\"line\",\"options\":{\"x\":\"data0\",\"y\":\"data1\",\"color\":\"blue\"},\"data\":\"127092ba-36b7-46bc-b819-deabfd639c3a\"}],\"options\":{\"x_label\":\"Years of Experience\",\"y_label\":\"Salary\",\"zoom\":true,\"width\":700,\"xrange\":[[1.1],[7.9]],\"yrange\":[[37380.11445789344],[101302.0]]}}],\"data\":{\"d826a58f-d696-49a5-8d00-ab8bb0a8dd6d\":[{\"data0\":[2.9],\"data1\":[56642.0]},{\"data0\":[4.0],\"data1\":[56957.0]},{\"data0\":[4.5],\"data1\":[61111.0]},{\"data0\":[3.7],\"data1\":[57189.0]},{\"data0\":[4.0],\"data1\":[55794.0]},{\"data0\":[5.1],\"data1\":[66029.0]},{\"data0\":[3.0],\"data1\":[60150.0]},{\"data0\":[7.9],\"data1\":[101302.0]},{\"data0\":[1.1],\"data1\":[39343.0]}],\"127092ba-36b7-46bc-b819-deabfd639c3a\":[{\"data0\":[2.9],\"data1\":[54293.83147579183]},{\"data0\":[4.0],\"data1\":[64629.99187561862]},{\"data0\":[4.5],\"data1\":[69328.24660281262]},{\"data0\":[3.7],\"data1\":[61811.039039302224]},{\"data0\":[4.0],\"data1\":[64629.99187561862]},{\"data0\":[5.1],\"data1\":[74966.15227544542]},{\"data0\":[3.0],\"data1\":[55233.48242123063]},{\"data0\":[7.9],\"data1\":[101276.37874773181]},{\"data0\":[1.1],\"data1\":[37380.11445789344]}]},\"extension\":[]}\n",
       "        var id_name = '#vis-a70b706c-6e76-4918-90f3-50d950334f46';\n",
       "        Nyaplot.core.parse(model, id_name);\n",
       "\n",
       "        require(['downloadable'], function(downloadable){\n",
       "          var svg = d3.select(id_name).select(\"svg\");\n",
       "\t  if(!svg.empty())\n",
       "\t    svg.call(downloadable().filename('fig'));\n",
       "\t});\n",
       "    };\n",
       "    if(window['Nyaplot']==undefined){\n",
       "        window.addEventListener('load_nyaplot', render, false);\n",
       "\treturn;\n",
       "    } else {\n",
       "       render();\n",
       "    }\n",
       "})();\n",
       "</script>\n"
      ],
      "text/plain": [
       "#<Nyaplot::Frame:0x00007feb4e9ccd90 @properties={:panes=>[#<Nyaplot::Plot:0x00007feb4e9dc970 @properties={:diagrams=>[#<Nyaplot::Diagram:0x00007feb4e9cee38 @properties={:type=>:scatter, :options=>{:x=>\"data0\", :y=>\"data1\", :color=>\"red\"}, :data=>\"d826a58f-d696-49a5-8d00-ab8bb0a8dd6d\"}, @xrange=[[1.1], [7.9]], @yrange=[[39343.0], [101302.0]]>, #<Nyaplot::Diagram:0x00007feb4e9cd4e8 @properties={:type=>:line, :options=>{:x=>\"data0\", :y=>\"data1\", :color=>\"blue\"}, :data=>\"127092ba-36b7-46bc-b819-deabfd639c3a\"}, @xrange=[[1.1], [7.9]], @yrange=[[37380.11445789344], [101276.37874773181]]>], :options=>{:x_label=>\"Years of Experience\", :y_label=>\"Salary\", :zoom=>true, :width=>700, :xrange=>[[1.1], [7.9]], :yrange=>[[37380.11445789344], [101302.0]]}}>], :data=>{\"d826a58f-d696-49a5-8d00-ab8bb0a8dd6d\"=>#<Nyaplot::DataFrame:0x00007feb4e9cfbf8 @name=\"d826a58f-d696-49a5-8d00-ab8bb0a8dd6d\", @rows=[{:data0=>[2.9], :data1=>[56642.0]}, {:data0=>[4.0], :data1=>[56957.0]}, {:data0=>[4.5], :data1=>[61111.0]}, {:data0=>[3.7], :data1=>[57189.0]}, {:data0=>[4.0], :data1=>[55794.0]}, {:data0=>[5.1], :data1=>[66029.0]}, {:data0=>[3.0], :data1=>[60150.0]}, {:data0=>[7.9], :data1=>[101302.0]}, {:data0=>[1.1], :data1=>[39343.0]}]>, \"127092ba-36b7-46bc-b819-deabfd639c3a\"=>#<Nyaplot::DataFrame:0x00007feb4e9ce000 @name=\"127092ba-36b7-46bc-b819-deabfd639c3a\", @rows=[{:data0=>[2.9], :data1=>[54293.83147579183]}, {:data0=>[4.0], :data1=>[64629.99187561862]}, {:data0=>[4.5], :data1=>[69328.24660281262]}, {:data0=>[3.7], :data1=>[61811.039039302224]}, {:data0=>[4.0], :data1=>[64629.99187561862]}, {:data0=>[5.1], :data1=>[74966.15227544542]}, {:data0=>[3.0], :data1=>[55233.48242123063]}, {:data0=>[7.9], :data1=>[101276.37874773181]}, {:data0=>[1.1], :data1=>[37380.11445789344]}]>}, :extension=>[]}>"
      ]
     },
     "metadata": {},
     "output_type": "display_data"
    },
    {
     "data": {
      "text/plain": [
       "[\"display_data\", \"<IDS|MSG>\", \"0982eb1a350d6b0943a65ad6c611b2875a6085a5260eeb7374f4cac1067c5e30\", \"{\\\"msg_type\\\":\\\"display_data\\\",\\\"msg_id\\\":\\\"3c3f082f-9262-4477-8f54-02cd764baf8a\\\",\\\"username\\\":\\\"kernel\\\",\\\"session\\\":\\\"9a74b59f-fba4-4bb1-9527-154ee36cb9a1\\\",\\\"version\\\":\\\"5.0\\\"}\", \"{\\\"msg_id\\\":\\\"47c3bc5f11b84f0286010467d147fa73\\\",\\\"username\\\":\\\"username\\\",\\\"session\\\":\\\"5d15d7670e1d40388c512fd5f1d198c6\\\",\\\"msg_type\\\":\\\"execute_request\\\",\\\"version\\\":\\\"5.2\\\",\\\"date\\\":\\\"2020-02-20T06:42:25.107762Z\\\"}\", \"{}\", \"{\\\"data\\\":{\\\"text/html\\\":\\\"<div id='vis-a70b706c-6e76-4918-90f3-50d950334f46'></div>\\\\n<script>\\\\n(function(){\\\\n    var render = function(){\\\\n        var model = {\\\\\\\"panes\\\\\\\":[{\\\\\\\"diagrams\\\\\\\":[{\\\\\\\"type\\\\\\\":\\\\\\\"scatter\\\\\\\",\\\\\\\"options\\\\\\\":{\\\\\\\"x\\\\\\\":\\\\\\\"data0\\\\\\\",\\\\\\\"y\\\\\\\":\\\\\\\"data1\\\\\\\",\\\\\\\"color\\\\\\\":\\\\\\\"red\\\\\\\"},\\\\\\\"data\\\\\\\":\\\\\\\"d826a58f-d696-49a5-8d00-ab8bb0a8dd6d\\\\\\\"},{\\\\\\\"type\\\\\\\":\\\\\\\"line\\\\\\\",\\\\\\\"options\\\\\\\":{\\\\\\\"x\\\\\\\":\\\\\\\"data0\\\\\\\",\\\\\\\"y\\\\\\\":\\\\\\\"data1\\\\\\\",\\\\\\\"color\\\\\\\":\\\\\\\"blue\\\\\\\"},\\\\\\\"data\\\\\\\":\\\\\\\"127092ba-36b7-46bc-b819-deabfd639c3a\\\\\\\"}],\\\\\\\"options\\\\\\\":{\\\\\\\"x_label\\\\\\\":\\\\\\\"Years of Experience\\\\\\\",\\\\\\\"y_label\\\\\\\":\\\\\\\"Salary\\\\\\\",\\\\\\\"zoom\\\\\\\":true,\\\\\\\"width\\\\\\\":700,\\\\\\\"xrange\\\\\\\":[[1.1],[7.9]],\\\\\\\"yrange\\\\\\\":[[37380.11445789344],[101302.0]]}}],\\\\\\\"data\\\\\\\":{\\\\\\\"d826a58f-d696-49a5-8d00-ab8bb0a8dd6d\\\\\\\":[{\\\\\\\"data0\\\\\\\":[2.9],\\\\\\\"data1\\\\\\\":[56642.0]},{\\\\\\\"data0\\\\\\\":[4.0],\\\\\\\"data1\\\\\\\":[56957.0]},{\\\\\\\"data0\\\\\\\":[4.5],\\\\\\\"data1\\\\\\\":[61111.0]},{\\\\\\\"data0\\\\\\\":[3.7],\\\\\\\"data1\\\\\\\":[57189.0]},{\\\\\\\"data0\\\\\\\":[4.0],\\\\\\\"data1\\\\\\\":[55794.0]},{\\\\\\\"data0\\\\\\\":[5.1],\\\\\\\"data1\\\\\\\":[66029.0]},{\\\\\\\"data0\\\\\\\":[3.0],\\\\\\\"data1\\\\\\\":[60150.0]},{\\\\\\\"data0\\\\\\\":[7.9],\\\\\\\"data1\\\\\\\":[101302.0]},{\\\\\\\"data0\\\\\\\":[1.1],\\\\\\\"data1\\\\\\\":[39343.0]}],\\\\\\\"127092ba-36b7-46bc-b819-deabfd639c3a\\\\\\\":[{\\\\\\\"data0\\\\\\\":[2.9],\\\\\\\"data1\\\\\\\":[54293.83147579183]},{\\\\\\\"data0\\\\\\\":[4.0],\\\\\\\"data1\\\\\\\":[64629.99187561862]},{\\\\\\\"data0\\\\\\\":[4.5],\\\\\\\"data1\\\\\\\":[69328.24660281262]},{\\\\\\\"data0\\\\\\\":[3.7],\\\\\\\"data1\\\\\\\":[61811.039039302224]},{\\\\\\\"data0\\\\\\\":[4.0],\\\\\\\"data1\\\\\\\":[64629.99187561862]},{\\\\\\\"data0\\\\\\\":[5.1],\\\\\\\"data1\\\\\\\":[74966.15227544542]},{\\\\\\\"data0\\\\\\\":[3.0],\\\\\\\"data1\\\\\\\":[55233.48242123063]},{\\\\\\\"data0\\\\\\\":[7.9],\\\\\\\"data1\\\\\\\":[101276.37874773181]},{\\\\\\\"data0\\\\\\\":[1.1],\\\\\\\"data1\\\\\\\":[37380.11445789344]}]},\\\\\\\"extension\\\\\\\":[]}\\\\n        var id_name = '#vis-a70b706c-6e76-4918-90f3-50d950334f46';\\\\n        Nyaplot.core.parse(model, id_name);\\\\n\\\\n        require(['downloadable'], function(downloadable){\\\\n          var svg = d3.select(id_name).select(\\\\\\\"svg\\\\\\\");\\\\n\\\\t  if(!svg.empty())\\\\n\\\\t    svg.call(downloadable().filename('fig'));\\\\n\\\\t});\\\\n    };\\\\n    if(window['Nyaplot']==undefined){\\\\n        window.addEventListener('load_nyaplot', render, false);\\\\n\\\\treturn;\\\\n    } else {\\\\n       render();\\\\n    }\\\\n})();\\\\n</script>\\\\n\\\",\\\"text/plain\\\":\\\"#<Nyaplot::Frame:0x00007feb4e9ccd90 @properties={:panes=>[#<Nyaplot::Plot:0x00007feb4e9dc970 @properties={:diagrams=>[#<Nyaplot::Diagram:0x00007feb4e9cee38 @properties={:type=>:scatter, :options=>{:x=>\\\\\\\"data0\\\\\\\", :y=>\\\\\\\"data1\\\\\\\", :color=>\\\\\\\"red\\\\\\\"}, :data=>\\\\\\\"d826a58f-d696-49a5-8d00-ab8bb0a8dd6d\\\\\\\"}, @xrange=[[1.1], [7.9]], @yrange=[[39343.0], [101302.0]]>, #<Nyaplot::Diagram:0x00007feb4e9cd4e8 @properties={:type=>:line, :options=>{:x=>\\\\\\\"data0\\\\\\\", :y=>\\\\\\\"data1\\\\\\\", :color=>\\\\\\\"blue\\\\\\\"}, :data=>\\\\\\\"127092ba-36b7-46bc-b819-deabfd639c3a\\\\\\\"}, @xrange=[[1.1], [7.9]], @yrange=[[37380.11445789344], [101276.37874773181]]>], :options=>{:x_label=>\\\\\\\"Years of Experience\\\\\\\", :y_label=>\\\\\\\"Salary\\\\\\\", :zoom=>true, :width=>700, :xrange=>[[1.1], [7.9]], :yrange=>[[37380.11445789344], [101302.0]]}}>], :data=>{\\\\\\\"d826a58f-d696-49a5-8d00-ab8bb0a8dd6d\\\\\\\"=>#<Nyaplot::DataFrame:0x00007feb4e9cfbf8 @name=\\\\\\\"d826a58f-d696-49a5-8d00-ab8bb0a8dd6d\\\\\\\", @rows=[{:data0=>[2.9], :data1=>[56642.0]}, {:data0=>[4.0], :data1=>[56957.0]}, {:data0=>[4.5], :data1=>[61111.0]}, {:data0=>[3.7], :data1=>[57189.0]}, {:data0=>[4.0], :data1=>[55794.0]}, {:data0=>[5.1], :data1=>[66029.0]}, {:data0=>[3.0], :data1=>[60150.0]}, {:data0=>[7.9], :data1=>[101302.0]}, {:data0=>[1.1], :data1=>[39343.0]}]>, \\\\\\\"127092ba-36b7-46bc-b819-deabfd639c3a\\\\\\\"=>#<Nyaplot::DataFrame:0x00007feb4e9ce000 @name=\\\\\\\"127092ba-36b7-46bc-b819-deabfd639c3a\\\\\\\", @rows=[{:data0=>[2.9], :data1=>[54293.83147579183]}, {:data0=>[4.0], :data1=>[64629.99187561862]}, {:data0=>[4.5], :data1=>[69328.24660281262]}, {:data0=>[3.7], :data1=>[61811.039039302224]}, {:data0=>[4.0], :data1=>[64629.99187561862]}, {:data0=>[5.1], :data1=>[74966.15227544542]}, {:data0=>[3.0], :data1=>[55233.48242123063]}, {:data0=>[7.9], :data1=>[101276.37874773181]}, {:data0=>[1.1], :data1=>[37380.11445789344]}]>}, :extension=>[]}>\\\"},\\\"metadata\\\":{}}\"]"
      ]
     },
     "execution_count": 14,
     "metadata": {},
     "output_type": "execute_result"
    }
   ],
   "source": [
    "# Visualize training set results\n",
    "plot = Nyaplot::Plot.new\n",
    "plot.x_label(\"Years of Experience\")\n",
    "plot.y_label(\"Salary\")\n",
    "scatter = plot.add(:scatter, x_test.to_a, y_test.to_a).color('red')\n",
    "line = plot.add(:line, x_test.to_a, y_pred.to_a).color('blue')\n",
    "plot.show"
   ]
  },
  {
   "cell_type": "code",
   "execution_count": 15,
   "metadata": {},
   "outputs": [
    {
     "data": {
      "text/latex": [
       "$$\\left(\\begin{array}{c}\n",
       "  308939.2376897065\\\\\n",
       "  590834.5213213463\\\\\n",
       "\\end{array}\\right)$$"
      ],
      "text/plain": [
       "Numo::DFloat#shape=[2,1]\n",
       "[[308939], \n",
       " [590835]]"
      ]
     },
     "execution_count": 15,
     "metadata": {},
     "output_type": "execute_result"
    }
   ],
   "source": [
    "model.predict([[30],[60]])"
   ]
  },
  {
   "cell_type": "code",
   "execution_count": null,
   "metadata": {},
   "outputs": [],
   "source": []
  }
 ],
 "metadata": {
  "kernelspec": {
   "display_name": "Ruby 2.7.0",
   "language": "ruby",
   "name": "ruby"
  },
  "language_info": {
   "file_extension": ".rb",
   "mimetype": "application/x-ruby",
   "name": "ruby",
   "version": "2.7.0"
  }
 },
 "nbformat": 4,
 "nbformat_minor": 2
}
